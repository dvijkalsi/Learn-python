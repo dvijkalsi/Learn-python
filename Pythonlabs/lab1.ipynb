{
 "cells": [
  {
   "cell_type": "code",
   "execution_count": 19,
   "metadata": {},
   "outputs": [
    {
     "name": "stdout",
     "output_type": "stream",
     "text": [
      "Hello, world!\n",
      "value of a is 5\n",
      "9\n"
     ]
    }
   ],
   "source": [
    "print('Hello, world!')\n",
    "a=5\n",
    "if a==5:\n",
    "    print('value of a is',a)\n",
    "else:\n",
    "    print('a is not 5')\n",
    "print(4+a)"
   ]
  },
  {
   "cell_type": "code",
   "execution_count": 20,
   "metadata": {},
   "outputs": [
    {
     "name": "stdout",
     "output_type": "stream",
     "text": [
      "a is odd\n"
     ]
    }
   ],
   "source": [
    "a=5\n",
    "if(a%2==0):\n",
    "    print('a is even')\n",
    "else:\n",
    "    print('a is odd')"
   ]
  },
  {
   "cell_type": "code",
   "execution_count": 1,
   "metadata": {},
   "outputs": [
    {
     "name": "stdout",
     "output_type": "stream",
     "text": [
      "You entered 213\n"
     ]
    }
   ],
   "source": [
    "anything = input('Enter a number: ')\n",
    "print('You entered', anything)\n",
    "\n"
   ]
  },
  {
   "cell_type": "code",
   "execution_count": 2,
   "metadata": {},
   "outputs": [
    {
     "name": "stdout",
     "output_type": "stream",
     "text": [
      "a is even\n"
     ]
    }
   ],
   "source": [
    "any = int(input('Enter a number: '))\n",
    "if(any%2==0):\n",
    "    print('a is even')\n",
    "else:\n",
    "    print('a is odd')"
   ]
  },
  {
   "cell_type": "code",
   "execution_count": 10,
   "metadata": {},
   "outputs": [
    {
     "name": "stdout",
     "output_type": "stream",
     "text": [
      "[4, 'lol', 4.34]\n",
      "4\n",
      "lol\n",
      "4.34\n",
      "4\n",
      "lol\n",
      "4.34\n"
     ]
    },
    {
     "data": {
      "text/plain": [
       "[0, 1, 2]"
      ]
     },
     "execution_count": 10,
     "metadata": {},
     "output_type": "execute_result"
    }
   ],
   "source": [
    "L=[4,'lol',4.34]\n",
    "print(L)\n",
    "type(L)\n",
    "type(L[2])\n",
    "for i in L:\n",
    "    print(i)\n",
    "for i in range(len(L)):\n",
    "    print(L[i])\n",
    "list(range(len(L)))\n",
    "    \n"
   ]
  },
  {
   "cell_type": "code",
   "execution_count": 8,
   "metadata": {},
   "outputs": [
    {
     "name": "stdout",
     "output_type": "stream",
     "text": [
      "0\n",
      "1\n",
      "2\n",
      "3\n",
      "4\n",
      "5\n",
      "6\n",
      "7\n",
      "8\n",
      "9\n"
     ]
    }
   ],
   "source": [
    "for i in range(10):\n",
    "    print(i)"
   ]
  },
  {
   "cell_type": "code",
   "execution_count": 29,
   "metadata": {},
   "outputs": [
    {
     "name": "stdout",
     "output_type": "stream",
     "text": [
      "prime\n"
     ]
    }
   ],
   "source": [
    "#checking if prime or not\n",
    "import numpy\n",
    "n=int(input('Enter a number: '))\n",
    "flag = False\n",
    "for i in range(2,int(numpy.sqrt(n))+1):\n",
    "    if(n%i==0):\n",
    "        print('not prime')\n",
    "        flag = True\n",
    "        break\n",
    "if not flag :\n",
    "    print('prime')\n"
   ]
  },
  {
   "cell_type": "code",
   "execution_count": 36,
   "metadata": {},
   "outputs": [
    {
     "name": "stdout",
     "output_type": "stream",
     "text": [
      "<class 'numpy.ndarray'>\n",
      "(2, 3)\n"
     ]
    }
   ],
   "source": [
    "A=numpy.array([[1,2,3],[3,4,5]])\n",
    "print(type(A))\n",
    "print(A.shape)"
   ]
  },
  {
   "cell_type": "code",
   "execution_count": 38,
   "metadata": {},
   "outputs": [
    {
     "name": "stdout",
     "output_type": "stream",
     "text": [
      "<class 'numpy.ndarray'>\n",
      "(2, 3)\n"
     ]
    }
   ],
   "source": [
    "import numpy as np\n",
    "A=np.array([[1,2,3],[3,4,5]])\n",
    "print(type(A))\n",
    "print(A.shape)"
   ]
  },
  {
   "cell_type": "code",
   "execution_count": 41,
   "metadata": {},
   "outputs": [
    {
     "name": "stdout",
     "output_type": "stream",
     "text": [
      "5\n"
     ]
    }
   ],
   "source": [
    "#print max in 2D array\n",
    "A=np.array([[1,2,3],[5,3,2]])\n",
    "max=A[0][0]\n",
    "for _ in A:\n",
    "    for i in _:\n",
    "        if(i>max):\n",
    "            max=i\n",
    "print(max)\n",
    "\n"
   ]
  },
  {
   "cell_type": "code",
   "execution_count": 47,
   "metadata": {},
   "outputs": [
    {
     "name": "stdout",
     "output_type": "stream",
     "text": [
      "5\n"
     ]
    }
   ],
   "source": [
    "#print max in 2D array\n",
    "A=np.array([[1,2,3],[5,3,2]])\n",
    "max=A[0][0]\n",
    "for i in range(A.shape[0]):\n",
    "    for j in range(A.shape[1]):\n",
    "        if(A[i][j]>max):\n",
    "            max=A[i][j]\n",
    "print(max)\n",
    "\n"
   ]
  },
  {
   "cell_type": "code",
   "execution_count": null,
   "metadata": {},
   "outputs": [],
   "source": []
  }
 ],
 "metadata": {
  "kernelspec": {
   "display_name": "Python 3",
   "language": "python",
   "name": "python3"
  },
  "language_info": {
   "codemirror_mode": {
    "name": "ipython",
    "version": 3
   },
   "file_extension": ".py",
   "mimetype": "text/x-python",
   "name": "python",
   "nbconvert_exporter": "python",
   "pygments_lexer": "ipython3",
   "version": "3.9.13 (tags/v3.9.13:6de2ca5, May 17 2022, 16:36:42) [MSC v.1929 64 bit (AMD64)]"
  },
  "orig_nbformat": 4,
  "vscode": {
   "interpreter": {
    "hash": "e29de3735ce4bf8ef1dc0ab78c4e7acc3ea04260273d55cc28ba4a7b02861cf1"
   }
  }
 },
 "nbformat": 4,
 "nbformat_minor": 2
}
