{
 "cells": [
  {
   "cell_type": "code",
   "execution_count": 1,
   "metadata": {},
   "outputs": [],
   "source": [
    "def function():\n",
    "    print(\"Hello World!\")\n",
    "\n",
    "def function2():\n",
    "    a=4\n",
    "    return a\n",
    "\n"
   ]
  },
  {
   "cell_type": "code",
   "execution_count": 2,
   "metadata": {},
   "outputs": [
    {
     "name": "stdout",
     "output_type": "stream",
     "text": [
      "Hello World!\n",
      "4\n"
     ]
    }
   ],
   "source": [
    "function()\n",
    "a=function2()\n",
    "print(a)"
   ]
  },
  {
   "cell_type": "code",
   "execution_count": 6,
   "metadata": {},
   "outputs": [
    {
     "name": "stdout",
     "output_type": "stream",
     "text": [
      "5\n"
     ]
    }
   ],
   "source": [
    "def function3(a,b):\n",
    "    return a+b\n",
    "\n",
    "print(function3(2,3))"
   ]
  },
  {
   "cell_type": "code",
   "execution_count": 5,
   "metadata": {},
   "outputs": [
    {
     "name": "stdout",
     "output_type": "stream",
     "text": [
      "1885494701666050254987932260861146558230394535379329335672487982961844043495537923117729972224000000000000000000\n"
     ]
    }
   ],
   "source": [
    "def factorial(n):\n",
    "    if n==1:\n",
    "        return 1\n",
    "    else:\n",
    "        return n*factorial(n-1)\n",
    "\n",
    "print(factorial(76))"
   ]
  },
  {
   "cell_type": "code",
   "execution_count": 17,
   "metadata": {},
   "outputs": [
    {
     "name": "stdout",
     "output_type": "stream",
     "text": [
      "4.909090909090909\n"
     ]
    }
   ],
   "source": [
    "def count_digits(n):\n",
    "    if n==0:\n",
    "        return 0\n",
    "    else:\n",
    "        return 1+count_digits(n/9)\n",
    "\n",
    "print(54/11)"
   ]
  },
  {
   "cell_type": "code",
   "execution_count": 19,
   "metadata": {},
   "outputs": [
    {
     "name": "stdout",
     "output_type": "stream",
     "text": [
      "5 6\n",
      "6 5\n"
     ]
    }
   ],
   "source": [
    "def swap(a,b):\n",
    "    return b,a\n",
    "\n",
    "a=5\n",
    "b=6\n",
    "print(a,b)\n",
    "a,b=b,a\n",
    "print(a,b)"
   ]
  },
  {
   "cell_type": "code",
   "execution_count": 3,
   "metadata": {},
   "outputs": [
    {
     "name": "stdout",
     "output_type": "stream",
     "text": [
      "422\n"
     ]
    }
   ],
   "source": [
    "def max(list):\n",
    "    max=list[0]\n",
    "    for i in list:\n",
    "        if i>max:\n",
    "            max=i\n",
    "    return max\n",
    "\n",
    "print(max([1,2,3,422,5,6,7,8,9,10]))"
   ]
  },
  {
   "cell_type": "code",
   "execution_count": 2,
   "metadata": {},
   "outputs": [
    {
     "name": "stdout",
     "output_type": "stream",
     "text": [
      "[6, 5, 4, 3, 2]\n"
     ]
    }
   ],
   "source": [
    "def selection_sort(list):\n",
    "    for i in range(len(list)):\n",
    "        a=max(list[i:])\n",
    "        b=list.index(a)\n",
    "        list[i],list[b]=list[b],list[i]\n",
    "    return list\n",
    "\n",
    "\n",
    "# creating an empty list\n",
    "lst = []\n",
    "  \n",
    "# number of elements as input\n",
    "n = int(input(\"Enter number of elements : \"))\n",
    "  \n",
    "# iterating till the range\n",
    "for i in range(0, n):\n",
    "    ele = int(input(\"Enter a number:\"))\n",
    "  \n",
    "    lst.append(ele) \n",
    "print(selection_sort(lst))"
   ]
  },
  {
   "cell_type": "code",
   "execution_count": 3,
   "metadata": {},
   "outputs": [
    {
     "name": "stdout",
     "output_type": "stream",
     "text": [
      "[2, 2, 5, 23, 34]\n"
     ]
    }
   ],
   "source": [
    "def merge(list,l,m,r):\n",
    "    i=l\n",
    "    j=m+1\n",
    "    \n",
    "    temp=[]\n",
    "    while i<=m and j<=r:\n",
    "        if list[i]<list[j]:\n",
    "            temp.append(list[i])\n",
    "            i+=1\n",
    "        else:\n",
    "            temp.append(list[j])\n",
    "            j+=1\n",
    "    while i<=m:\n",
    "        temp.append(list[i])\n",
    "        i+=1\n",
    "    while j<=r:\n",
    "        temp.append(list[j])\n",
    "        j+=1\n",
    "    for i in range(l,r+1):\n",
    "        list[i]=temp[i-l]\n",
    "\n",
    "def merge_sort(list,l,r):\n",
    "    if l<r:\n",
    "        m=(l+r)//2\n",
    "        merge_sort(list,l,m)\n",
    "        merge_sort(list,m+1,r)\n",
    "        merge(list,l,m,r)\n",
    "\n",
    "\n",
    "# creating an empty list\n",
    "lst = []\n",
    "n = int(input(\"Enter number of elements : \"))\n",
    "for i in range(0, n):\n",
    "    ele = int(input(\"Enter a number:\"))\n",
    "    lst.append(ele)\n",
    "merge_sort(lst,0,len(lst)-1)\n",
    "print(lst)\n",
    "\n",
    "    \n",
    "\n"
   ]
  },
  {
   "cell_type": "code",
   "execution_count": 12,
   "metadata": {},
   "outputs": [
    {
     "name": "stdout",
     "output_type": "stream",
     "text": [
      "[1, 14, 22, 23, 43]\n"
     ]
    }
   ],
   "source": [
    "\n",
    "def partition(list,l,r):\n",
    "    pivot=list[r]\n",
    "    i=l-1\n",
    "    for j in range(l,r):\n",
    "        if list[j]<pivot:\n",
    "            i+=1\n",
    "            list[i],list[j]=list[j],list[i]\n",
    "    i+=1\n",
    "    list[i],list[r]=list[r],list[i]\n",
    "    return i\n",
    "\n",
    "def quick_sort(list,l,r):\n",
    "    if l<r:\n",
    "        p=partition(list,l,r)\n",
    "        quick_sort(list,l,p-1)\n",
    "        quick_sort(list,p+1,r)\n",
    "\n",
    "\n",
    "# creating an empty list\n",
    "lst = []\n",
    "n = int(input(\"Enter number of elements : \"))\n",
    "for i in range(0, n):\n",
    "    ele = int(input(\"Enter a number:\"))\n",
    "    lst.append(ele)\n",
    "quick_sort(lst,0,len(lst)-1)\n",
    "print(lst)"
   ]
  }
 ],
 "metadata": {
  "kernelspec": {
   "display_name": "Python 3",
   "language": "python",
   "name": "python3"
  },
  "language_info": {
   "codemirror_mode": {
    "name": "ipython",
    "version": 3
   },
   "file_extension": ".py",
   "mimetype": "text/x-python",
   "name": "python",
   "nbconvert_exporter": "python",
   "pygments_lexer": "ipython3",
   "version": "3.9.13"
  },
  "orig_nbformat": 4,
  "vscode": {
   "interpreter": {
    "hash": "e29de3735ce4bf8ef1dc0ab78c4e7acc3ea04260273d55cc28ba4a7b02861cf1"
   }
  }
 },
 "nbformat": 4,
 "nbformat_minor": 2
}
