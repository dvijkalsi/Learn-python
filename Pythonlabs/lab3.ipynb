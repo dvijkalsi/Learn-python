{
 "cells": [
  {
   "cell_type": "code",
   "execution_count": 169,
   "metadata": {},
   "outputs": [],
   "source": [
    "import numpy as np\n",
    "import matplotlib.pyplot as plt\n",
    "from sklearn.datasets import load_iris"
   ]
  },
  {
   "cell_type": "code",
   "execution_count": 196,
   "metadata": {},
   "outputs": [
    {
     "name": "stdout",
     "output_type": "stream",
     "text": [
      "Loading Iris dataset...\n",
      "Iris dataset loaded.\n",
      "Number of samples:  150\n",
      "Number of features:  4\n",
      "Number of classes:  3\n",
      "Class labels:  [0 1 2]\n"
     ]
    }
   ],
   "source": [
    "print(\"Loading Iris dataset...\")\n",
    "data = load_iris(return_X_y=True)\n",
    "print(\"Iris dataset loaded.\")\n",
    "print(\"Number of samples: \", len(data[0]))\n",
    "print(\"Number of features: \", len(data[0][0]))\n",
    "print(\"Number of classes: \", len(np.unique(data[1])))\n",
    "print(\"Class labels: \", np.unique(data[1]))\n"
   ]
  },
  {
   "cell_type": "code",
   "execution_count": 197,
   "metadata": {},
   "outputs": [],
   "source": [
    "X = data[0]\n",
    "Y = data[1]\n",
    "data = np.concatenate((X,np.expand_dims(Y,axis=1)),axis=1)\n",
    "np.random.shuffle(data)"
   ]
  },
  {
   "cell_type": "code",
   "execution_count": 198,
   "metadata": {},
   "outputs": [],
   "source": [
    "trainData, testData = data[:int(len(data)*0.7),:], data[int(len(data)*0.7):,:] # 70% training, 30% testing\n",
    "trainData_X, trainData_Y = trainData[:,:-1], trainData[:,-1]\n",
    "testData_X, testData_Y = testData[:,:-1], testData[:,-1]\n"
   ]
  },
  {
   "cell_type": "code",
   "execution_count": 173,
   "metadata": {},
   "outputs": [
    {
     "data": {
      "text/plain": [
       "(array([5.9, 3.2, 4.8, 1.8]), 1.0)"
      ]
     },
     "execution_count": 173,
     "metadata": {},
     "output_type": "execute_result"
    }
   ],
   "source": [
    "trainData_X[0], trainData_Y[0]"
   ]
  },
  {
   "cell_type": "code",
   "execution_count": 199,
   "metadata": {},
   "outputs": [],
   "source": [
    "test_sample = testData_X[0]"
   ]
  },
  {
   "cell_type": "code",
   "execution_count": 200,
   "metadata": {},
   "outputs": [],
   "source": [
    "from sklearn.metrics.pairwise import euclidean_distances"
   ]
  },
  {
   "cell_type": "code",
   "execution_count": 201,
   "metadata": {},
   "outputs": [
    {
     "data": {
      "text/plain": [
       "array([[3.57071421],\n",
       "       [0.41231056],\n",
       "       [1.07238053],\n",
       "       [4.17851648],\n",
       "       [6.04152299],\n",
       "       [3.79209705],\n",
       "       [3.20780299],\n",
       "       [0.51961524],\n",
       "       [1.48996644],\n",
       "       [1.29614814],\n",
       "       [4.74657771],\n",
       "       [3.18433667],\n",
       "       [3.15436206],\n",
       "       [3.6180105 ],\n",
       "       [4.07553677],\n",
       "       [3.33616546],\n",
       "       [4.40227214],\n",
       "       [5.25452186],\n",
       "       [3.13209195],\n",
       "       [5.0645829 ],\n",
       "       [4.6292548 ],\n",
       "       [0.78102497],\n",
       "       [4.62493243],\n",
       "       [4.67011777],\n",
       "       [0.86023253],\n",
       "       [5.72538208],\n",
       "       [5.10196041],\n",
       "       [4.13642358],\n",
       "       [0.34641016],\n",
       "       [5.01298314],\n",
       "       [3.63868108],\n",
       "       [0.678233  ],\n",
       "       [4.9010203 ],\n",
       "       [4.26028168],\n",
       "       [3.48137904],\n",
       "       [3.36303434],\n",
       "       [4.24028301],\n",
       "       [3.97617907],\n",
       "       [4.25323406],\n",
       "       [5.12347538],\n",
       "       [3.54400903],\n",
       "       [3.94715087],\n",
       "       [3.78813938],\n",
       "       [4.61194102],\n",
       "       [3.28329103],\n",
       "       [1.39283883],\n",
       "       [4.66154481],\n",
       "       [0.9486833 ],\n",
       "       [4.08044115],\n",
       "       [6.17494939],\n",
       "       [6.09015599],\n",
       "       [3.67151195],\n",
       "       [1.25698051],\n",
       "       [4.87442304],\n",
       "       [2.15174348],\n",
       "       [3.40293991],\n",
       "       [0.80622577],\n",
       "       [0.38729833],\n",
       "       [3.6180105 ],\n",
       "       [5.61248608],\n",
       "       [0.85440037],\n",
       "       [1.26095202],\n",
       "       [4.85283422],\n",
       "       [0.54772256],\n",
       "       [0.81240384],\n",
       "       [5.52720544],\n",
       "       [3.43511281],\n",
       "       [0.54772256],\n",
       "       [3.52987252],\n",
       "       [1.02956301],\n",
       "       [4.53651849],\n",
       "       [5.07937004],\n",
       "       [4.93457192],\n",
       "       [1.15325626],\n",
       "       [3.58050276],\n",
       "       [0.98488578],\n",
       "       [3.41320963],\n",
       "       [3.90256326],\n",
       "       [4.4855323 ],\n",
       "       [1.28452326],\n",
       "       [1.31529464],\n",
       "       [4.64112055],\n",
       "       [3.88715835],\n",
       "       [4.20713679],\n",
       "       [3.24037035],\n",
       "       [2.76586334],\n",
       "       [1.3453624 ],\n",
       "       [3.20468407],\n",
       "       [5.22972275],\n",
       "       [3.90896406],\n",
       "       [4.07062649],\n",
       "       [1.08166538],\n",
       "       [4.6       ],\n",
       "       [3.21247568],\n",
       "       [4.94064773],\n",
       "       [5.08527285],\n",
       "       [4.34971263],\n",
       "       [3.9736633 ],\n",
       "       [5.53443764],\n",
       "       [4.37378555],\n",
       "       [4.34971263],\n",
       "       [0.87177979],\n",
       "       [3.85875628],\n",
       "       [6.48536815],\n",
       "       [1.42478068]])"
      ]
     },
     "execution_count": 201,
     "metadata": {},
     "output_type": "execute_result"
    }
   ],
   "source": [
    "euclidean_distances(trainData_X, np.expand_dims(test_sample,axis=0))"
   ]
  },
  {
   "cell_type": "code",
   "execution_count": 202,
   "metadata": {},
   "outputs": [],
   "source": [
    "dist = np.concatenate(\n",
    "    (euclidean_distances(trainData_X, np.expand_dims(test_sample,axis=0)),\n",
    "    np.expand_dims(trainData_Y,axis=1)),\n",
    "    axis=1\n",
    ")"
   ]
  },
  {
   "cell_type": "code",
   "execution_count": 178,
   "metadata": {},
   "outputs": [
    {
     "data": {
      "text/plain": [
       "array([[0.86023253, 1.        ],\n",
       "       [1.2328828 , 2.        ],\n",
       "       [1.        , 2.        ],\n",
       "       [2.62106848, 2.        ],\n",
       "       [3.62629287, 0.        ],\n",
       "       [2.84604989, 0.        ],\n",
       "       [1.42478068, 2.        ],\n",
       "       [0.6244998 , 1.        ],\n",
       "       [3.09192497, 0.        ],\n",
       "       [3.0757113 , 0.        ],\n",
       "       [1.60312195, 2.        ],\n",
       "       [1.73493516, 2.        ],\n",
       "       [1.81383571, 2.        ],\n",
       "       [1.42828569, 1.        ],\n",
       "       [3.03973683, 0.        ],\n",
       "       [0.50990195, 1.        ],\n",
       "       [3.27261363, 0.        ],\n",
       "       [1.1045361 , 2.        ],\n",
       "       [0.72111026, 1.        ],\n",
       "       [1.06770783, 2.        ],\n",
       "       [0.7       , 1.        ],\n",
       "       [0.64807407, 1.        ],\n",
       "       [3.04959014, 0.        ],\n",
       "       [3.03809151, 0.        ],\n",
       "       [0.70710678, 1.        ],\n",
       "       [1.88414437, 2.        ],\n",
       "       [0.93273791, 1.        ],\n",
       "       [0.47958315, 1.        ],\n",
       "       [1.44913767, 2.        ],\n",
       "       [1.99248588, 2.        ],\n",
       "       [1.71464282, 2.        ],\n",
       "       [2.91032644, 0.        ],\n",
       "       [0.58309519, 1.        ],\n",
       "       [0.66332496, 1.        ],\n",
       "       [0.31622777, 1.        ],\n",
       "       [3.10805405, 0.        ],\n",
       "       [3.51852242, 2.        ],\n",
       "       [3.34813381, 0.        ],\n",
       "       [0.81853528, 1.        ],\n",
       "       [2.79284801, 0.        ],\n",
       "       [3.02324329, 0.        ],\n",
       "       [0.38729833, 1.        ],\n",
       "       [3.21714159, 0.        ],\n",
       "       [1.15325626, 1.        ],\n",
       "       [2.74954542, 0.        ],\n",
       "       [2.05182845, 2.        ],\n",
       "       [2.85482048, 0.        ],\n",
       "       [2.90516781, 0.        ],\n",
       "       [1.41421356, 1.        ],\n",
       "       [2.41453929, 2.        ],\n",
       "       [0.87177979, 1.        ],\n",
       "       [3.28481354, 0.        ],\n",
       "       [3.00998339, 0.        ],\n",
       "       [1.57162336, 2.        ],\n",
       "       [3.22800248, 0.        ],\n",
       "       [0.14142136, 1.        ],\n",
       "       [0.17320508, 1.        ],\n",
       "       [3.21091887, 0.        ],\n",
       "       [1.37113092, 1.        ],\n",
       "       [0.84261498, 1.        ],\n",
       "       [2.72213152, 0.        ],\n",
       "       [0.45825757, 1.        ],\n",
       "       [2.21585198, 2.        ],\n",
       "       [0.60827625, 1.        ],\n",
       "       [1.13578167, 2.        ],\n",
       "       [1.05356538, 2.        ],\n",
       "       [1.41774469, 1.        ],\n",
       "       [1.60934769, 2.        ],\n",
       "       [3.02985148, 0.        ],\n",
       "       [1.88679623, 2.        ],\n",
       "       [3.01827765, 0.        ],\n",
       "       [1.42828569, 2.        ],\n",
       "       [3.28329103, 0.        ],\n",
       "       [3.31360831, 2.        ],\n",
       "       [1.02469508, 2.        ],\n",
       "       [2.27815715, 2.        ],\n",
       "       [2.96984848, 0.        ],\n",
       "       [2.79105715, 2.        ],\n",
       "       [1.26095202, 1.        ],\n",
       "       [2.20227155, 2.        ],\n",
       "       [3.16701752, 0.        ],\n",
       "       [1.48996644, 2.        ],\n",
       "       [3.09030743, 0.        ],\n",
       "       [1.94422221, 2.        ],\n",
       "       [1.76068169, 2.        ],\n",
       "       [0.46904158, 1.        ],\n",
       "       [3.27871926, 2.        ],\n",
       "       [1.04403065, 1.        ],\n",
       "       [2.88270706, 0.        ],\n",
       "       [3.16543836, 0.        ],\n",
       "       [3.01662063, 0.        ],\n",
       "       [0.54772256, 1.        ],\n",
       "       [3.20312348, 0.        ],\n",
       "       [1.12249722, 2.        ],\n",
       "       [3.22645316, 0.        ],\n",
       "       [3.00499584, 0.        ],\n",
       "       [3.27719392, 0.        ],\n",
       "       [3.12569992, 0.        ],\n",
       "       [2.34520788, 2.        ],\n",
       "       [0.48989795, 1.        ],\n",
       "       [1.01488916, 1.        ],\n",
       "       [3.36452077, 0.        ],\n",
       "       [0.84261498, 2.        ],\n",
       "       [0.14142136, 1.        ],\n",
       "       [0.79372539, 1.        ]])"
      ]
     },
     "execution_count": 178,
     "metadata": {},
     "output_type": "execute_result"
    }
   ],
   "source": [
    "dist"
   ]
  },
  {
   "cell_type": "code",
   "execution_count": 203,
   "metadata": {},
   "outputs": [],
   "source": [
    "dist = dist[dist[:,0].argsort()]\n"
   ]
  },
  {
   "cell_type": "code",
   "execution_count": 204,
   "metadata": {},
   "outputs": [
    {
     "data": {
      "text/plain": [
       "array([[0.34641016, 0.        ],\n",
       "       [0.38729833, 0.        ],\n",
       "       [0.41231056, 0.        ],\n",
       "       [0.51961524, 0.        ],\n",
       "       [0.54772256, 0.        ],\n",
       "       [0.54772256, 0.        ],\n",
       "       [0.678233  , 0.        ]])"
      ]
     },
     "execution_count": 204,
     "metadata": {},
     "output_type": "execute_result"
    }
   ],
   "source": [
    "k=7\n",
    "dist[:k]"
   ]
  },
  {
   "cell_type": "code",
   "execution_count": 205,
   "metadata": {},
   "outputs": [],
   "source": [
    "unique_elements, counts_elements = np.unique(dist[:k][:,1], return_counts=True)"
   ]
  },
  {
   "cell_type": "code",
   "execution_count": 206,
   "metadata": {},
   "outputs": [
    {
     "data": {
      "text/plain": [
       "(array([0.]), array([7], dtype=int64))"
      ]
     },
     "execution_count": 206,
     "metadata": {},
     "output_type": "execute_result"
    }
   ],
   "source": [
    "unique_elements, counts_elements"
   ]
  },
  {
   "cell_type": "code",
   "execution_count": 207,
   "metadata": {},
   "outputs": [],
   "source": [
    "frequency = np.concatenate(\n",
    "    (np.expand_dims(unique_elements,axis=1),\n",
    "    np.expand_dims(counts_elements,axis=1)),\n",
    "    axis=1\n",
    ")\n",
    "frequency = frequency[frequency[:,1].argsort()]"
   ]
  },
  {
   "cell_type": "code",
   "execution_count": 184,
   "metadata": {},
   "outputs": [
    {
     "data": {
      "text/plain": [
       "array([[1., 7.]])"
      ]
     },
     "execution_count": 184,
     "metadata": {},
     "output_type": "execute_result"
    }
   ],
   "source": [
    "frequency"
   ]
  },
  {
   "cell_type": "code",
   "execution_count": 208,
   "metadata": {},
   "outputs": [
    {
     "data": {
      "text/plain": [
       "0.0"
      ]
     },
     "execution_count": 208,
     "metadata": {},
     "output_type": "execute_result"
    }
   ],
   "source": [
    "pred_label = frequency[0,0]\n",
    "pred_label"
   ]
  },
  {
   "cell_type": "code",
   "execution_count": 209,
   "metadata": {},
   "outputs": [
    {
     "data": {
      "text/plain": [
       "0.0"
      ]
     },
     "execution_count": 209,
     "metadata": {},
     "output_type": "execute_result"
    }
   ],
   "source": [
    "def knn(trainData_X, trainData_Y, test_sample, k=7):\n",
    "    dist = np.concatenate(\n",
    "        (euclidean_distances(trainData_X, np.expand_dims(test_sample,axis=0)),\n",
    "        np.expand_dims(trainData_Y,axis=1)),\n",
    "        axis=1\n",
    "    )\n",
    "    dist = dist[dist[:,0].argsort()]\n",
    "    unique_elements, counts_elements = np.unique(dist[:k][:,1], return_counts=True)\n",
    "    frequency = np.concatenate(\n",
    "        (np.expand_dims(unique_elements,axis=1),\n",
    "        np.expand_dims(counts_elements,axis=1)),\n",
    "        axis=1\n",
    "    )\n",
    "    frequency = frequency[frequency[:,1].argsort()]\n",
    "    pred_label = frequency[0,0]\n",
    "    return pred_label\n",
    "\n",
    "knn(trainData_X, trainData_Y, test_sample, k=7)"
   ]
  },
  {
   "cell_type": "code",
   "execution_count": 210,
   "metadata": {},
   "outputs": [
    {
     "data": {
      "text/plain": [
       "0.0"
      ]
     },
     "execution_count": 210,
     "metadata": {},
     "output_type": "execute_result"
    }
   ],
   "source": [
    "knn(trainData_X, trainData_Y, testData_X[3], k=7)"
   ]
  },
  {
   "cell_type": "code",
   "execution_count": 188,
   "metadata": {},
   "outputs": [
    {
     "name": "stdout",
     "output_type": "stream",
     "text": [
      "Loading Wine dataset...\n",
      "Wine dataset loaded.\n",
      "Number of samples:  178\n",
      "Number of features:  13\n",
      "Number of classes:  3\n",
      "Class labels:  [0 1 2]\n"
     ]
    }
   ],
   "source": [
    "from sklearn.datasets import load_wine\n",
    "print('Loading Wine dataset...')\n",
    "data = load_wine(return_X_y=True)\n",
    "print('Wine dataset loaded.')\n",
    "print('Number of samples: ', len(data[0]))\n",
    "print('Number of features: ', len(data[0][0]))\n",
    "print('Number of classes: ', len(np.unique(data[1])))\n",
    "print('Class labels: ', np.unique(data[1]))\n"
   ]
  },
  {
   "cell_type": "code",
   "execution_count": 189,
   "metadata": {},
   "outputs": [],
   "source": [
    "X = data[0]\n",
    "Y = data[1]\n",
    "data = np.concatenate((X,np.expand_dims(Y,axis=1)),axis=1)\n",
    "np.random.shuffle(data)\n",
    "trainData, testData = data[:int(len(data)*0.7),:], data[int(len(data)*0.7):,:] # 70% training, 30% testing\n",
    "trainData_X, trainData_Y = trainData[:,:-1], trainData[:,-1]\n",
    "testData_X, testData_Y = testData[:,:-1], testData[:,-1]\n"
   ]
  },
  {
   "cell_type": "code",
   "execution_count": 190,
   "metadata": {},
   "outputs": [
    {
     "data": {
      "text/plain": [
       "(array([1.356e+01, 1.710e+00, 2.310e+00, 1.620e+01, 1.170e+02, 3.150e+00,\n",
       "        3.290e+00, 3.400e-01, 2.340e+00, 6.130e+00, 9.500e-01, 3.380e+00,\n",
       "        7.950e+02]),\n",
       " 0.0)"
      ]
     },
     "execution_count": 190,
     "metadata": {},
     "output_type": "execute_result"
    }
   ],
   "source": [
    "trainData_X[0], trainData_Y[0]"
   ]
  },
  {
   "cell_type": "code",
   "execution_count": 191,
   "metadata": {},
   "outputs": [
    {
     "data": {
      "text/plain": [
       "1.0"
      ]
     },
     "execution_count": 191,
     "metadata": {},
     "output_type": "execute_result"
    }
   ],
   "source": [
    "test_sample = testData_X[0]\n",
    "knn(trainData_X, trainData_Y, test_sample)\n"
   ]
  },
  {
   "cell_type": "code",
   "execution_count": 219,
   "metadata": {},
   "outputs": [],
   "source": [
    "pred_list = [knn(trainData_X, trainData_Y, testData_X[i]) for i in range( testData_X.shape[0])]"
   ]
  },
  {
   "cell_type": "code",
   "execution_count": 220,
   "metadata": {},
   "outputs": [
    {
     "name": "stdout",
     "output_type": "stream",
     "text": [
      "[0.0, 2.0, 0.0, 0.0, 0.0, 1.0, 0.0, 0.0, 0.0, 1.0, 1.0, 1.0, 2.0, 0.0, 1.0, 1.0, 0.0, 0.0, 1.0, 2.0, 1.0, 2.0, 0.0, 0.0, 1.0, 1.0, 0.0, 2.0, 0.0, 1.0, 1.0, 1.0, 1.0, 1.0, 1.0, 0.0, 1.0, 0.0, 1.0, 0.0, 1.0, 0.0, 0.0, 0.0, 0.0]\n"
     ]
    }
   ],
   "source": [
    "print(pred_list)"
   ]
  },
  {
   "cell_type": "code",
   "execution_count": 221,
   "metadata": {},
   "outputs": [
    {
     "name": "stdout",
     "output_type": "stream",
     "text": [
      "40\n"
     ]
    }
   ],
   "source": [
    "matchCount = 0\n",
    "for i in range(len(testData_Y)):\n",
    "    if testData_Y[i] == pred_list[i]:\n",
    "        matchCount += 1\n",
    "print(matchCount)"
   ]
  },
  {
   "cell_type": "code",
   "execution_count": 222,
   "metadata": {},
   "outputs": [
    {
     "data": {
      "text/plain": [
       "0.8888888888888888"
      ]
     },
     "execution_count": 222,
     "metadata": {},
     "output_type": "execute_result"
    }
   ],
   "source": [
    "matchCount/len(testData_Y)"
   ]
  }
 ],
 "metadata": {
  "kernelspec": {
   "display_name": "base",
   "language": "python",
   "name": "python3"
  },
  "language_info": {
   "codemirror_mode": {
    "name": "ipython",
    "version": 3
   },
   "file_extension": ".py",
   "mimetype": "text/x-python",
   "name": "python",
   "nbconvert_exporter": "python",
   "pygments_lexer": "ipython3",
   "version": "3.9.13"
  },
  "orig_nbformat": 4,
  "vscode": {
   "interpreter": {
    "hash": "e372e5aeeb73fa1c10673162e4325d4b75b3bbd00ac374fb588bc5b71c4ffb6c"
   }
  }
 },
 "nbformat": 4,
 "nbformat_minor": 2
}
