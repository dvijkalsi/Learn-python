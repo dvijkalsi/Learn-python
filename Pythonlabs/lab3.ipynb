{
 "cells": [
  {
   "cell_type": "code",
   "execution_count": 230,
   "metadata": {},
   "outputs": [],
   "source": [
    "import numpy as np\n",
    "import matplotlib.pyplot as plt\n",
    "from sklearn.datasets import load_iris"
   ]
  },
  {
   "cell_type": "code",
   "execution_count": 231,
   "metadata": {},
   "outputs": [
    {
     "name": "stdout",
     "output_type": "stream",
     "text": [
      "Loading Iris dataset...\n",
      "Iris dataset loaded.\n",
      "Number of samples:  150\n",
      "Number of features:  4\n",
      "Number of classes:  3\n",
      "Class labels:  [0 1 2]\n"
     ]
    }
   ],
   "source": [
    "print(\"Loading Iris dataset...\")\n",
    "data = load_iris(return_X_y=True)\n",
    "print(\"Iris dataset loaded.\")\n",
    "print(\"Number of samples: \", len(data[0]))\n",
    "print(\"Number of features: \", len(data[0][0]))\n",
    "print(\"Number of classes: \", len(np.unique(data[1])))\n",
    "print(\"Class labels: \", np.unique(data[1]))\n"
   ]
  },
  {
   "cell_type": "code",
   "execution_count": 232,
   "metadata": {},
   "outputs": [],
   "source": [
    "X = data[0]\n",
    "Y = data[1]\n",
    "data = np.concatenate((X,np.expand_dims(Y,axis=1)),axis=1)\n",
    "np.random.shuffle(data)"
   ]
  },
  {
   "cell_type": "code",
   "execution_count": 233,
   "metadata": {},
   "outputs": [],
   "source": [
    "trainData, testData = data[:int(len(data)*0.7),:], data[int(len(data)*0.7):,:] # 70% training, 30% testing\n",
    "trainData_X, trainData_Y = trainData[:,:-1], trainData[:,-1]\n",
    "testData_X, testData_Y = testData[:,:-1], testData[:,-1]\n"
   ]
  },
  {
   "cell_type": "code",
   "execution_count": 234,
   "metadata": {},
   "outputs": [
    {
     "data": {
      "text/plain": [
       "(array([4.9, 2.4, 3.3, 1. ]), 1.0)"
      ]
     },
     "execution_count": 234,
     "metadata": {},
     "output_type": "execute_result"
    }
   ],
   "source": [
    "trainData_X[0], trainData_Y[0]"
   ]
  },
  {
   "cell_type": "code",
   "execution_count": 235,
   "metadata": {},
   "outputs": [],
   "source": [
    "test_sample = testData_X[0]"
   ]
  },
  {
   "cell_type": "code",
   "execution_count": 236,
   "metadata": {},
   "outputs": [],
   "source": [
    "from sklearn.metrics.pairwise import euclidean_distances"
   ]
  },
  {
   "cell_type": "code",
   "execution_count": 237,
   "metadata": {},
   "outputs": [
    {
     "data": {
      "text/plain": [
       "array([[3.17962262],\n",
       "       [1.62480768],\n",
       "       [4.82286222],\n",
       "       [0.71414284],\n",
       "       [5.02692749],\n",
       "       [1.22474487],\n",
       "       [0.58309519],\n",
       "       [4.65832588],\n",
       "       [0.76157731],\n",
       "       [2.10475652],\n",
       "       [5.16526863],\n",
       "       [2.05669638],\n",
       "       [1.21655251],\n",
       "       [4.96185449],\n",
       "       [0.78102497],\n",
       "       [4.74763099],\n",
       "       [0.41231056],\n",
       "       [1.46287388],\n",
       "       [4.74552421],\n",
       "       [4.65510472],\n",
       "       [1.96468827],\n",
       "       [0.74161985],\n",
       "       [4.75289386],\n",
       "       [4.79687398],\n",
       "       [0.99498744],\n",
       "       [4.73919824],\n",
       "       [2.00499377],\n",
       "       [0.97467943],\n",
       "       [1.04880885],\n",
       "       [0.9591663 ],\n",
       "       [0.54772256],\n",
       "       [2.30867928],\n",
       "       [2.00748599],\n",
       "       [5.40925133],\n",
       "       [1.55884573],\n",
       "       [0.55677644],\n",
       "       [2.45153013],\n",
       "       [4.77283983],\n",
       "       [1.22474487],\n",
       "       [0.92736185],\n",
       "       [1.92353841],\n",
       "       [5.08920426],\n",
       "       [4.67653718],\n",
       "       [4.52327315],\n",
       "       [1.78325545],\n",
       "       [2.55929678],\n",
       "       [4.81767579],\n",
       "       [0.37416574],\n",
       "       [0.6244998 ],\n",
       "       [0.55677644],\n",
       "       [0.41231056],\n",
       "       [5.14295635],\n",
       "       [1.18743421],\n",
       "       [2.36854386],\n",
       "       [0.78740079],\n",
       "       [4.5858478 ],\n",
       "       [4.70637865],\n",
       "       [0.94339811],\n",
       "       [1.42828569],\n",
       "       [0.9591663 ],\n",
       "       [0.51961524],\n",
       "       [4.84458461],\n",
       "       [4.74868403],\n",
       "       [1.40356688],\n",
       "       [1.28840987],\n",
       "       [1.19163753],\n",
       "       [2.40624188],\n",
       "       [2.30217289],\n",
       "       [1.33416641],\n",
       "       [4.86004115],\n",
       "       [1.23693169],\n",
       "       [1.42126704],\n",
       "       [1.42478068],\n",
       "       [1.67630546],\n",
       "       [1.4       ],\n",
       "       [4.34281015],\n",
       "       [5.16526863],\n",
       "       [4.98698306],\n",
       "       [0.36055513],\n",
       "       [1.2083046 ],\n",
       "       [1.09087121],\n",
       "       [0.80622577],\n",
       "       [1.15325626],\n",
       "       [4.82389884],\n",
       "       [1.19582607],\n",
       "       [4.80624594],\n",
       "       [0.17320508],\n",
       "       [1.82482876],\n",
       "       [4.77702836],\n",
       "       [4.75289386],\n",
       "       [4.88057374],\n",
       "       [1.69410743],\n",
       "       [4.78539445],\n",
       "       [0.99498744],\n",
       "       [1.39283883],\n",
       "       [4.8641546 ],\n",
       "       [2.28035085],\n",
       "       [1.26095202],\n",
       "       [1.46287388],\n",
       "       [1.12694277],\n",
       "       [4.9244289 ],\n",
       "       [4.91019348],\n",
       "       [3.10483494],\n",
       "       [4.70956474],\n",
       "       [4.99099189]])"
      ]
     },
     "execution_count": 237,
     "metadata": {},
     "output_type": "execute_result"
    }
   ],
   "source": [
    "euclidean_distances(trainData_X, np.expand_dims(test_sample,axis=0))"
   ]
  },
  {
   "cell_type": "code",
   "execution_count": 238,
   "metadata": {},
   "outputs": [],
   "source": [
    "dist = np.concatenate(\n",
    "    (euclidean_distances(trainData_X, np.expand_dims(test_sample,axis=0)),\n",
    "    np.expand_dims(trainData_Y,axis=1)),\n",
    "    axis=1\n",
    ")"
   ]
  },
  {
   "cell_type": "code",
   "execution_count": 239,
   "metadata": {},
   "outputs": [
    {
     "data": {
      "text/plain": [
       "array([[3.17962262, 1.        ],\n",
       "       [1.62480768, 1.        ],\n",
       "       [4.82286222, 0.        ],\n",
       "       [0.71414284, 2.        ],\n",
       "       [5.02692749, 0.        ],\n",
       "       [1.22474487, 2.        ],\n",
       "       [0.58309519, 2.        ],\n",
       "       [4.65832588, 0.        ],\n",
       "       [0.76157731, 2.        ],\n",
       "       [2.10475652, 1.        ],\n",
       "       [5.16526863, 0.        ],\n",
       "       [2.05669638, 1.        ],\n",
       "       [1.21655251, 2.        ],\n",
       "       [4.96185449, 0.        ],\n",
       "       [0.78102497, 1.        ],\n",
       "       [4.74763099, 0.        ],\n",
       "       [0.41231056, 2.        ],\n",
       "       [1.46287388, 1.        ],\n",
       "       [4.74552421, 0.        ],\n",
       "       [4.65510472, 0.        ],\n",
       "       [1.96468827, 1.        ],\n",
       "       [0.74161985, 2.        ],\n",
       "       [4.75289386, 0.        ],\n",
       "       [4.79687398, 0.        ],\n",
       "       [0.99498744, 2.        ],\n",
       "       [4.73919824, 0.        ],\n",
       "       [2.00499377, 1.        ],\n",
       "       [0.97467943, 1.        ],\n",
       "       [1.04880885, 2.        ],\n",
       "       [0.9591663 , 2.        ],\n",
       "       [0.54772256, 2.        ],\n",
       "       [2.30867928, 2.        ],\n",
       "       [2.00748599, 1.        ],\n",
       "       [5.40925133, 0.        ],\n",
       "       [1.55884573, 2.        ],\n",
       "       [0.55677644, 2.        ],\n",
       "       [2.45153013, 1.        ],\n",
       "       [4.77283983, 0.        ],\n",
       "       [1.22474487, 2.        ],\n",
       "       [0.92736185, 2.        ],\n",
       "       [1.92353841, 1.        ],\n",
       "       [5.08920426, 0.        ],\n",
       "       [4.67653718, 0.        ],\n",
       "       [4.52327315, 0.        ],\n",
       "       [1.78325545, 2.        ],\n",
       "       [2.55929678, 1.        ],\n",
       "       [4.81767579, 0.        ],\n",
       "       [0.37416574, 2.        ],\n",
       "       [0.6244998 , 2.        ],\n",
       "       [0.55677644, 2.        ],\n",
       "       [0.41231056, 2.        ],\n",
       "       [5.14295635, 0.        ],\n",
       "       [1.18743421, 1.        ],\n",
       "       [2.36854386, 1.        ],\n",
       "       [0.78740079, 2.        ],\n",
       "       [4.5858478 , 0.        ],\n",
       "       [4.70637865, 0.        ],\n",
       "       [0.94339811, 1.        ],\n",
       "       [1.42828569, 2.        ],\n",
       "       [0.9591663 , 2.        ],\n",
       "       [0.51961524, 2.        ],\n",
       "       [4.84458461, 0.        ],\n",
       "       [4.74868403, 0.        ],\n",
       "       [1.40356688, 2.        ],\n",
       "       [1.28840987, 1.        ],\n",
       "       [1.19163753, 2.        ],\n",
       "       [2.40624188, 1.        ],\n",
       "       [2.30217289, 1.        ],\n",
       "       [1.33416641, 1.        ],\n",
       "       [4.86004115, 0.        ],\n",
       "       [1.23693169, 1.        ],\n",
       "       [1.42126704, 1.        ],\n",
       "       [1.42478068, 1.        ],\n",
       "       [1.67630546, 1.        ],\n",
       "       [1.4       , 1.        ],\n",
       "       [4.34281015, 0.        ],\n",
       "       [5.16526863, 0.        ],\n",
       "       [4.98698306, 0.        ],\n",
       "       [0.36055513, 2.        ],\n",
       "       [1.2083046 , 1.        ],\n",
       "       [1.09087121, 2.        ],\n",
       "       [0.80622577, 2.        ],\n",
       "       [1.15325626, 1.        ],\n",
       "       [4.82389884, 0.        ],\n",
       "       [1.19582607, 1.        ],\n",
       "       [4.80624594, 0.        ],\n",
       "       [0.17320508, 2.        ],\n",
       "       [1.82482876, 1.        ],\n",
       "       [4.77702836, 0.        ],\n",
       "       [4.75289386, 0.        ],\n",
       "       [4.88057374, 0.        ],\n",
       "       [1.69410743, 1.        ],\n",
       "       [4.78539445, 0.        ],\n",
       "       [0.99498744, 2.        ],\n",
       "       [1.39283883, 2.        ],\n",
       "       [4.8641546 , 0.        ],\n",
       "       [2.28035085, 1.        ],\n",
       "       [1.26095202, 1.        ],\n",
       "       [1.46287388, 2.        ],\n",
       "       [1.12694277, 2.        ],\n",
       "       [4.9244289 , 0.        ],\n",
       "       [4.91019348, 0.        ],\n",
       "       [3.10483494, 1.        ],\n",
       "       [4.70956474, 0.        ],\n",
       "       [4.99099189, 0.        ]])"
      ]
     },
     "execution_count": 239,
     "metadata": {},
     "output_type": "execute_result"
    }
   ],
   "source": [
    "dist"
   ]
  },
  {
   "cell_type": "code",
   "execution_count": 240,
   "metadata": {},
   "outputs": [],
   "source": [
    "dist = dist[dist[:,0].argsort()]\n"
   ]
  },
  {
   "cell_type": "code",
   "execution_count": 241,
   "metadata": {},
   "outputs": [
    {
     "data": {
      "text/plain": [
       "array([[0.17320508, 2.        ],\n",
       "       [0.36055513, 2.        ],\n",
       "       [0.37416574, 2.        ],\n",
       "       [0.41231056, 2.        ],\n",
       "       [0.41231056, 2.        ],\n",
       "       [0.51961524, 2.        ],\n",
       "       [0.54772256, 2.        ]])"
      ]
     },
     "execution_count": 241,
     "metadata": {},
     "output_type": "execute_result"
    }
   ],
   "source": [
    "k=7\n",
    "dist[:k]"
   ]
  },
  {
   "cell_type": "code",
   "execution_count": 242,
   "metadata": {},
   "outputs": [],
   "source": [
    "unique_elements, counts_elements = np.unique(dist[:k][:,1], return_counts=True)"
   ]
  },
  {
   "cell_type": "code",
   "execution_count": 243,
   "metadata": {},
   "outputs": [
    {
     "data": {
      "text/plain": [
       "(array([2.]), array([7], dtype=int64))"
      ]
     },
     "execution_count": 243,
     "metadata": {},
     "output_type": "execute_result"
    }
   ],
   "source": [
    "unique_elements, counts_elements"
   ]
  },
  {
   "cell_type": "code",
   "execution_count": 244,
   "metadata": {},
   "outputs": [],
   "source": [
    "frequency = np.concatenate(\n",
    "    (np.expand_dims(unique_elements,axis=1),\n",
    "    np.expand_dims(counts_elements,axis=1)),\n",
    "    axis=1\n",
    ")\n",
    "frequency = frequency[frequency[:,1].argsort()]"
   ]
  },
  {
   "cell_type": "code",
   "execution_count": 245,
   "metadata": {},
   "outputs": [
    {
     "data": {
      "text/plain": [
       "array([[2., 7.]])"
      ]
     },
     "execution_count": 245,
     "metadata": {},
     "output_type": "execute_result"
    }
   ],
   "source": [
    "frequency"
   ]
  },
  {
   "cell_type": "code",
   "execution_count": 246,
   "metadata": {},
   "outputs": [
    {
     "data": {
      "text/plain": [
       "2.0"
      ]
     },
     "execution_count": 246,
     "metadata": {},
     "output_type": "execute_result"
    }
   ],
   "source": [
    "pred_label = frequency[0,0]\n",
    "pred_label"
   ]
  },
  {
   "cell_type": "code",
   "execution_count": 247,
   "metadata": {},
   "outputs": [
    {
     "data": {
      "text/plain": [
       "2.0"
      ]
     },
     "execution_count": 247,
     "metadata": {},
     "output_type": "execute_result"
    }
   ],
   "source": [
    "def knn(trainData_X, trainData_Y, test_sample, k=7):\n",
    "    dist = np.concatenate(\n",
    "        (euclidean_distances(trainData_X, np.expand_dims(test_sample,axis=0)),\n",
    "        np.expand_dims(trainData_Y,axis=1)),\n",
    "        axis=1\n",
    "    )\n",
    "    dist = dist[dist[:,0].argsort()]\n",
    "    unique_elements, counts_elements = np.unique(dist[:k][:,1], return_counts=True)\n",
    "    frequency = np.concatenate(\n",
    "        (np.expand_dims(unique_elements,axis=1),\n",
    "        np.expand_dims(counts_elements,axis=1)),\n",
    "        axis=1\n",
    "    )\n",
    "    frequency = frequency[frequency[:,1].argsort()]\n",
    "    pred_label = frequency[0,0]\n",
    "    return pred_label\n",
    "\n",
    "knn(trainData_X, trainData_Y, test_sample, k=7)"
   ]
  },
  {
   "cell_type": "code",
   "execution_count": 248,
   "metadata": {},
   "outputs": [
    {
     "data": {
      "text/plain": [
       "0.0"
      ]
     },
     "execution_count": 248,
     "metadata": {},
     "output_type": "execute_result"
    }
   ],
   "source": [
    "knn(trainData_X, trainData_Y, testData_X[3], k=7)"
   ]
  },
  {
   "cell_type": "code",
   "execution_count": 249,
   "metadata": {},
   "outputs": [
    {
     "name": "stdout",
     "output_type": "stream",
     "text": [
      "Loading Wine dataset...\n",
      "Wine dataset loaded.\n",
      "Number of samples:  178\n",
      "Number of features:  13\n",
      "Number of classes:  3\n",
      "Class labels:  [0 1 2]\n"
     ]
    }
   ],
   "source": [
    "from sklearn.datasets import load_wine\n",
    "print('Loading Wine dataset...')\n",
    "data = load_wine(return_X_y=True)\n",
    "print('Wine dataset loaded.')\n",
    "print('Number of samples: ', len(data[0]))\n",
    "print('Number of features: ', len(data[0][0]))\n",
    "print('Number of classes: ', len(np.unique(data[1])))\n",
    "print('Class labels: ', np.unique(data[1]))\n"
   ]
  },
  {
   "cell_type": "code",
   "execution_count": 250,
   "metadata": {},
   "outputs": [],
   "source": [
    "X = data[0]\n",
    "Y = data[1]\n",
    "data = np.concatenate((X,np.expand_dims(Y,axis=1)),axis=1)\n",
    "np.random.shuffle(data)\n",
    "trainData, testData = data[:int(len(data)*0.7),:], data[int(len(data)*0.7):,:] # 70% training, 30% testing\n",
    "trainData_X, trainData_Y = trainData[:,:-1], trainData[:,-1]\n",
    "testData_X, testData_Y = testData[:,:-1], testData[:,-1]\n"
   ]
  },
  {
   "cell_type": "code",
   "execution_count": 251,
   "metadata": {},
   "outputs": [
    {
     "data": {
      "text/plain": [
       "(array([1.367e+01, 1.250e+00, 1.920e+00, 1.800e+01, 9.400e+01, 2.100e+00,\n",
       "        1.790e+00, 3.200e-01, 7.300e-01, 3.800e+00, 1.230e+00, 2.460e+00,\n",
       "        6.300e+02]),\n",
       " 1.0)"
      ]
     },
     "execution_count": 251,
     "metadata": {},
     "output_type": "execute_result"
    }
   ],
   "source": [
    "trainData_X[0], trainData_Y[0]"
   ]
  },
  {
   "cell_type": "code",
   "execution_count": 252,
   "metadata": {},
   "outputs": [
    {
     "data": {
      "text/plain": [
       "2.0"
      ]
     },
     "execution_count": 252,
     "metadata": {},
     "output_type": "execute_result"
    }
   ],
   "source": [
    "test_sample = testData_X[0]\n",
    "knn(trainData_X, trainData_Y, test_sample)\n"
   ]
  },
  {
   "cell_type": "code",
   "execution_count": 253,
   "metadata": {},
   "outputs": [],
   "source": [
    "pred_list = [knn(trainData_X, trainData_Y, testData_X[i]) for i in range( testData_X.shape[0])]"
   ]
  },
  {
   "cell_type": "code",
   "execution_count": 254,
   "metadata": {},
   "outputs": [
    {
     "name": "stdout",
     "output_type": "stream",
     "text": [
      "[2.0, 0.0, 0.0, 1.0, 1.0, 0.0, 1.0, 1.0, 2.0, 1.0, 0.0, 2.0, 2.0, 1.0, 0.0, 1.0, 2.0, 2.0, 1.0, 1.0, 2.0, 2.0, 0.0, 1.0, 1.0, 0.0, 2.0, 2.0, 0.0, 0.0, 0.0, 1.0, 2.0, 2.0, 2.0, 1.0, 2.0, 0.0, 1.0, 0.0, 2.0, 2.0, 2.0, 1.0, 1.0, 0.0, 1.0, 2.0, 0.0, 1.0, 2.0, 2.0, 1.0, 1.0]\n"
     ]
    }
   ],
   "source": [
    "print(pred_list)"
   ]
  },
  {
   "cell_type": "code",
   "execution_count": 255,
   "metadata": {},
   "outputs": [
    {
     "name": "stdout",
     "output_type": "stream",
     "text": [
      "28\n"
     ]
    }
   ],
   "source": [
    "matchCount = 0\n",
    "for i in range(len(testData_Y)):\n",
    "    if testData_Y[i] == pred_list[i]:\n",
    "        matchCount += 1\n",
    "print(matchCount)"
   ]
  },
  {
   "cell_type": "code",
   "execution_count": 256,
   "metadata": {},
   "outputs": [
    {
     "data": {
      "text/plain": [
       "0.5185185185185185"
      ]
     },
     "execution_count": 256,
     "metadata": {},
     "output_type": "execute_result"
    }
   ],
   "source": [
    "matchCount/len(testData_Y)"
   ]
  },
  {
   "cell_type": "code",
   "execution_count": 257,
   "metadata": {},
   "outputs": [],
   "source": [
    "accuracy_on_k = [np.sum([1 if knn(trainData_X, trainData_Y, testData_X[i],k) == testData_Y[i] else 0\n",
    "        for i in range(len(testData_X)) ]) / len(testData_X)\n",
    "        for k in range(3,120,4) ]"
   ]
  },
  {
   "cell_type": "code",
   "execution_count": 258,
   "metadata": {},
   "outputs": [
    {
     "data": {
      "image/png": "[encoded data removed]",
      "text/plain": [
       "<Figure size 2000x400 with 1 Axes>"
      ]
     },
     "metadata": {},
     "output_type": "display_data"
    }
   ],
   "source": [
    "plt.figure(figsize=(20,4))\n",
    "plt.bar(np.arange(3,120,4),accuracy_on_k)\n",
    "plt.show()"
   ]
  }
 ],
 "metadata": {
  "kernelspec": {
   "display_name": "base",
   "language": "python",
   "name": "python3"
  },
  "language_info": {
   "codemirror_mode": {
    "name": "ipython",
    "version": 3
   },
   "file_extension": ".py",
   "mimetype": "text/x-python",
   "name": "python",
   "nbconvert_exporter": "python",
   "pygments_lexer": "ipython3",
   "version": "3.9.13"
  },
  "orig_nbformat": 4,
  "vscode": {
   "interpreter": {
    "hash": "e372e5aeeb73fa1c10673162e4325d4b75b3bbd00ac374fb588bc5b71c4ffb6c"
   }
  }
 },
 "nbformat": 4,
 "nbformat_minor": 2
}
