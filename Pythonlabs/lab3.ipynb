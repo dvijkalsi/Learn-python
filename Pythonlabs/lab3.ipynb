{
 "cells": [
  {
   "cell_type": "code",
   "execution_count": 1,
   "metadata": {},
   "outputs": [],
   "source": [
    "import numpy as np\n",
    "import matplotlib.pyplot as plt\n",
    "from sklearn.datasets import load_iris"
   ]
  },
  {
   "cell_type": "code",
   "execution_count": 2,
   "metadata": {},
   "outputs": [
    {
     "name": "stdout",
     "output_type": "stream",
     "text": [
      "Loading Iris dataset...\n",
      "Iris dataset loaded.\n",
      "Number of samples:  150\n",
      "Number of features:  4\n",
      "Number of classes:  3\n",
      "Class labels:  [0 1 2]\n"
     ]
    }
   ],
   "source": [
    "print(\"Loading Iris dataset...\")\n",
    "data = load_iris(return_X_y=True)\n",
    "print(\"Iris dataset loaded.\")\n",
    "print(\"Number of samples: \", len(data[0]))\n",
    "print(\"Number of features: \", len(data[0][0]))\n",
    "print(\"Number of classes: \", len(np.unique(data[1])))\n",
    "print(\"Class labels: \", np.unique(data[1]))\n"
   ]
  },
  {
   "cell_type": "code",
   "execution_count": 3,
   "metadata": {},
   "outputs": [],
   "source": [
    "X = data[0]\n",
    "Y = data[1]\n",
    "data = np.concatenate((X,np.expand_dims(Y,axis=1)),axis=1)\n",
    "np.random.shuffle(data)"
   ]
  },
  {
   "cell_type": "code",
   "execution_count": 4,
   "metadata": {},
   "outputs": [],
   "source": [
    "trainData, testData = data[:int(len(data)*0.7),:], data[int(len(data)*0.7):,:] # 70% training, 30% testing\n",
    "trainData_X, trainData_Y = trainData[:,:-1], trainData[:,-1]\n",
    "testData_X, testData_Y = testData[:,:-1], testData[:,-1]\n"
   ]
  },
  {
   "cell_type": "code",
   "execution_count": 5,
   "metadata": {},
   "outputs": [
    {
     "data": {
      "text/plain": [
       "(array([6. , 3. , 4.8, 1.8]), 2.0)"
      ]
     },
     "execution_count": 5,
     "metadata": {},
     "output_type": "execute_result"
    }
   ],
   "source": [
    "trainData_X[0], trainData_Y[0]"
   ]
  },
  {
   "cell_type": "code",
   "execution_count": 6,
   "metadata": {},
   "outputs": [],
   "source": [
    "test_sample = testData_X[0]"
   ]
  },
  {
   "cell_type": "code",
   "execution_count": 7,
   "metadata": {},
   "outputs": [],
   "source": [
    "from sklearn.metrics.pairwise import euclidean_distances"
   ]
  },
  {
   "cell_type": "code",
   "execution_count": 8,
   "metadata": {},
   "outputs": [
    {
     "data": {
      "text/plain": [
       "array([[3.96862697],\n",
       "       [0.46904158],\n",
       "       [0.58309519],\n",
       "       [4.88057374],\n",
       "       [3.92428337],\n",
       "       [4.66047208],\n",
       "       [3.61109402],\n",
       "       [5.20864666],\n",
       "       [0.90553851],\n",
       "       [3.07408523],\n",
       "       [4.21307489],\n",
       "       [0.57445626],\n",
       "       [4.46989933],\n",
       "       [4.91731634],\n",
       "       [4.14608249],\n",
       "       [2.38956063],\n",
       "       [3.59722115],\n",
       "       [5.05272204],\n",
       "       [4.93659802],\n",
       "       [0.87177979],\n",
       "       [4.25088226],\n",
       "       [5.33760246],\n",
       "       [0.68556546],\n",
       "       [5.20192272],\n",
       "       [4.69148164],\n",
       "       [0.42426407],\n",
       "       [4.2626283 ],\n",
       "       [0.17320508],\n",
       "       [0.24494897],\n",
       "       [0.86023253],\n",
       "       [5.13419906],\n",
       "       [0.38729833],\n",
       "       [2.88963666],\n",
       "       [0.46904158],\n",
       "       [3.84837628],\n",
       "       [5.13711982],\n",
       "       [1.161895  ],\n",
       "       [4.69574275],\n",
       "       [0.86023253],\n",
       "       [2.75317998],\n",
       "       [0.54772256],\n",
       "       [0.33166248],\n",
       "       [5.7210139 ],\n",
       "       [3.69188299],\n",
       "       [3.13368792],\n",
       "       [2.94108823],\n",
       "       [0.69282032],\n",
       "       [3.88200979],\n",
       "       [0.42426407],\n",
       "       [5.73585216],\n",
       "       [5.09411425],\n",
       "       [0.43588989],\n",
       "       [3.50570963],\n",
       "       [0.50990195],\n",
       "       [0.52915026],\n",
       "       [0.5       ],\n",
       "       [4.72757866],\n",
       "       [3.15594677],\n",
       "       [0.42426407],\n",
       "       [2.64764046],\n",
       "       [0.37416574],\n",
       "       [3.22645316],\n",
       "       [4.71274867],\n",
       "       [4.7738873 ],\n",
       "       [4.18807832],\n",
       "       [3.84837628],\n",
       "       [0.9539392 ],\n",
       "       [0.4472136 ],\n",
       "       [0.678233  ],\n",
       "       [4.27551167],\n",
       "       [5.4101756 ],\n",
       "       [2.97489496],\n",
       "       [4.33474336],\n",
       "       [3.50998575],\n",
       "       [4.95983871],\n",
       "       [2.77668868],\n",
       "       [0.58309519],\n",
       "       [6.19193023],\n",
       "       [3.1591138 ],\n",
       "       [0.33166248],\n",
       "       [4.00624512],\n",
       "       [0.3       ],\n",
       "       [5.39073279],\n",
       "       [4.08289113],\n",
       "       [1.3       ],\n",
       "       [0.26457513],\n",
       "       [2.43515913],\n",
       "       [0.14142136],\n",
       "       [3.09030743],\n",
       "       [3.75099987],\n",
       "       [4.24970587],\n",
       "       [6.33640276],\n",
       "       [0.59160798],\n",
       "       [0.60827625],\n",
       "       [3.68239053],\n",
       "       [4.71805044],\n",
       "       [5.64358042],\n",
       "       [3.30302891],\n",
       "       [3.63455637],\n",
       "       [4.43508737],\n",
       "       [0.7       ],\n",
       "       [2.57487864],\n",
       "       [0.17320508],\n",
       "       [0.78740079],\n",
       "       [6.11555394]])"
      ]
     },
     "execution_count": 8,
     "metadata": {},
     "output_type": "execute_result"
    }
   ],
   "source": [
    "euclidean_distances(trainData_X, np.expand_dims(test_sample,axis=0))"
   ]
  },
  {
   "cell_type": "code",
   "execution_count": 9,
   "metadata": {},
   "outputs": [],
   "source": [
    "dist = np.concatenate(\n",
    "    (euclidean_distances(trainData_X, np.expand_dims(test_sample,axis=0)),\n",
    "    np.expand_dims(trainData_Y,axis=1)),\n",
    "    axis=1\n",
    ")"
   ]
  },
  {
   "cell_type": "code",
   "execution_count": 10,
   "metadata": {},
   "outputs": [
    {
     "data": {
      "text/plain": [
       "array([[3.96862697, 2.        ],\n",
       "       [0.46904158, 0.        ],\n",
       "       [0.58309519, 0.        ],\n",
       "       [4.88057374, 2.        ],\n",
       "       [3.92428337, 1.        ],\n",
       "       [4.66047208, 2.        ],\n",
       "       [3.61109402, 1.        ],\n",
       "       [5.20864666, 2.        ],\n",
       "       [0.90553851, 0.        ],\n",
       "       [3.07408523, 1.        ],\n",
       "       [4.21307489, 2.        ],\n",
       "       [0.57445626, 0.        ],\n",
       "       [4.46989933, 2.        ],\n",
       "       [4.91731634, 2.        ],\n",
       "       [4.14608249, 1.        ],\n",
       "       [2.38956063, 1.        ],\n",
       "       [3.59722115, 1.        ],\n",
       "       [5.05272204, 2.        ],\n",
       "       [4.93659802, 2.        ],\n",
       "       [0.87177979, 0.        ],\n",
       "       [4.25088226, 2.        ],\n",
       "       [5.33760246, 2.        ],\n",
       "       [0.68556546, 0.        ],\n",
       "       [5.20192272, 2.        ],\n",
       "       [4.69148164, 2.        ],\n",
       "       [0.42426407, 0.        ],\n",
       "       [4.2626283 , 1.        ],\n",
       "       [0.17320508, 0.        ],\n",
       "       [0.24494897, 0.        ],\n",
       "       [0.86023253, 0.        ],\n",
       "       [5.13419906, 2.        ],\n",
       "       [0.38729833, 0.        ],\n",
       "       [2.88963666, 1.        ],\n",
       "       [0.46904158, 0.        ],\n",
       "       [3.84837628, 1.        ],\n",
       "       [5.13711982, 2.        ],\n",
       "       [1.161895  , 0.        ],\n",
       "       [4.69574275, 2.        ],\n",
       "       [0.86023253, 0.        ],\n",
       "       [2.75317998, 1.        ],\n",
       "       [0.54772256, 0.        ],\n",
       "       [0.33166248, 0.        ],\n",
       "       [5.7210139 , 2.        ],\n",
       "       [3.69188299, 1.        ],\n",
       "       [3.13368792, 1.        ],\n",
       "       [2.94108823, 1.        ],\n",
       "       [0.69282032, 0.        ],\n",
       "       [3.88200979, 1.        ],\n",
       "       [0.42426407, 0.        ],\n",
       "       [5.73585216, 2.        ],\n",
       "       [5.09411425, 2.        ],\n",
       "       [0.43588989, 0.        ],\n",
       "       [3.50570963, 1.        ],\n",
       "       [0.50990195, 0.        ],\n",
       "       [0.52915026, 0.        ],\n",
       "       [0.5       , 0.        ],\n",
       "       [4.72757866, 2.        ],\n",
       "       [3.15594677, 1.        ],\n",
       "       [0.42426407, 0.        ],\n",
       "       [2.64764046, 1.        ],\n",
       "       [0.37416574, 0.        ],\n",
       "       [3.22645316, 1.        ],\n",
       "       [4.71274867, 2.        ],\n",
       "       [4.7738873 , 2.        ],\n",
       "       [4.18807832, 2.        ],\n",
       "       [3.84837628, 1.        ],\n",
       "       [0.9539392 , 0.        ],\n",
       "       [0.4472136 , 0.        ],\n",
       "       [0.678233  , 0.        ],\n",
       "       [4.27551167, 2.        ],\n",
       "       [5.4101756 , 2.        ],\n",
       "       [2.97489496, 1.        ],\n",
       "       [4.33474336, 1.        ],\n",
       "       [3.50998575, 1.        ],\n",
       "       [4.95983871, 2.        ],\n",
       "       [2.77668868, 1.        ],\n",
       "       [0.58309519, 0.        ],\n",
       "       [6.19193023, 2.        ],\n",
       "       [3.1591138 , 1.        ],\n",
       "       [0.33166248, 0.        ],\n",
       "       [4.00624512, 1.        ],\n",
       "       [0.3       , 0.        ],\n",
       "       [5.39073279, 2.        ],\n",
       "       [4.08289113, 2.        ],\n",
       "       [1.3       , 0.        ],\n",
       "       [0.26457513, 0.        ],\n",
       "       [2.43515913, 1.        ],\n",
       "       [0.14142136, 0.        ],\n",
       "       [3.09030743, 1.        ],\n",
       "       [3.75099987, 1.        ],\n",
       "       [4.24970587, 2.        ],\n",
       "       [6.33640276, 2.        ],\n",
       "       [0.59160798, 0.        ],\n",
       "       [0.60827625, 0.        ],\n",
       "       [3.68239053, 1.        ],\n",
       "       [4.71805044, 2.        ],\n",
       "       [5.64358042, 2.        ],\n",
       "       [3.30302891, 1.        ],\n",
       "       [3.63455637, 2.        ],\n",
       "       [4.43508737, 2.        ],\n",
       "       [0.7       , 0.        ],\n",
       "       [2.57487864, 1.        ],\n",
       "       [0.17320508, 0.        ],\n",
       "       [0.78740079, 0.        ],\n",
       "       [6.11555394, 2.        ]])"
      ]
     },
     "execution_count": 10,
     "metadata": {},
     "output_type": "execute_result"
    }
   ],
   "source": [
    "dist"
   ]
  },
  {
   "cell_type": "code",
   "execution_count": 11,
   "metadata": {},
   "outputs": [],
   "source": [
    "dist = dist[dist[:,0].argsort()]\n"
   ]
  },
  {
   "cell_type": "code",
   "execution_count": 12,
   "metadata": {},
   "outputs": [
    {
     "data": {
      "text/plain": [
       "array([[0.14142136, 0.        ],\n",
       "       [0.17320508, 0.        ],\n",
       "       [0.17320508, 0.        ],\n",
       "       [0.24494897, 0.        ],\n",
       "       [0.26457513, 0.        ],\n",
       "       [0.3       , 0.        ],\n",
       "       [0.33166248, 0.        ]])"
      ]
     },
     "execution_count": 12,
     "metadata": {},
     "output_type": "execute_result"
    }
   ],
   "source": [
    "k=7\n",
    "dist[:k]"
   ]
  },
  {
   "cell_type": "code",
   "execution_count": 13,
   "metadata": {},
   "outputs": [],
   "source": [
    "unique_elements, counts_elements = np.unique(dist[:k][:,1], return_counts=True)"
   ]
  },
  {
   "cell_type": "code",
   "execution_count": 14,
   "metadata": {},
   "outputs": [
    {
     "data": {
      "text/plain": [
       "(array([0.]), array([7], dtype=int64))"
      ]
     },
     "execution_count": 14,
     "metadata": {},
     "output_type": "execute_result"
    }
   ],
   "source": [
    "unique_elements, counts_elements"
   ]
  },
  {
   "cell_type": "code",
   "execution_count": 15,
   "metadata": {},
   "outputs": [],
   "source": [
    "frequency = np.concatenate(\n",
    "    (np.expand_dims(unique_elements,axis=1),\n",
    "    np.expand_dims(counts_elements,axis=1)),\n",
    "    axis=1\n",
    ")\n",
    "frequency = frequency[frequency[:,1].argsort()]"
   ]
  },
  {
   "cell_type": "code",
   "execution_count": 16,
   "metadata": {},
   "outputs": [
    {
     "data": {
      "text/plain": [
       "array([[0., 7.]])"
      ]
     },
     "execution_count": 16,
     "metadata": {},
     "output_type": "execute_result"
    }
   ],
   "source": [
    "frequency"
   ]
  },
  {
   "cell_type": "code",
   "execution_count": 17,
   "metadata": {},
   "outputs": [
    {
     "data": {
      "text/plain": [
       "0.0"
      ]
     },
     "execution_count": 17,
     "metadata": {},
     "output_type": "execute_result"
    }
   ],
   "source": [
    "pred_label = frequency[0,0]\n",
    "pred_label"
   ]
  },
  {
   "cell_type": "code",
   "execution_count": 27,
   "metadata": {},
   "outputs": [
    {
     "data": {
      "text/plain": [
       "2.0"
      ]
     },
     "execution_count": 27,
     "metadata": {},
     "output_type": "execute_result"
    }
   ],
   "source": [
    "def knn(trainData_X, trainData_Y, test_sample, k=7):\n",
    "    dist = np.concatenate(\n",
    "        (euclidean_distances(trainData_X, np.expand_dims(test_sample,axis=0)),\n",
    "        np.expand_dims(trainData_Y,axis=1)),\n",
    "        axis=1\n",
    "    )\n",
    "    dist = dist[dist[:,0].argsort()]\n",
    "    unique_elements, counts_elements = np.unique(dist[:k][:,1], return_counts=True)\n",
    "    frequency = np.concatenate(\n",
    "        (np.expand_dims(unique_elements,axis=1),\n",
    "        np.expand_dims(counts_elements,axis=1)),\n",
    "        axis=1\n",
    "    )\n",
    "    frequency = frequency[frequency[:,1].argsort()]\n",
    "    pred_label = frequency[0,0]\n",
    "    return pred_label\n",
    "\n",
    "knn(trainData_X, trainData_Y, test_sample, k=7)"
   ]
  },
  {
   "cell_type": "code",
   "execution_count": 19,
   "metadata": {},
   "outputs": [
    {
     "data": {
      "text/plain": [
       "0.0"
      ]
     },
     "execution_count": 19,
     "metadata": {},
     "output_type": "execute_result"
    }
   ],
   "source": [
    "knn(trainData_X, trainData_Y, testData_X[3], k=7)"
   ]
  },
  {
   "cell_type": "code",
   "execution_count": 20,
   "metadata": {},
   "outputs": [
    {
     "name": "stdout",
     "output_type": "stream",
     "text": [
      "Loading Wine dataset...\n",
      "Wine dataset loaded.\n",
      "Number of samples:  178\n",
      "Number of features:  13\n",
      "Number of classes:  3\n",
      "Class labels:  [0 1 2]\n"
     ]
    }
   ],
   "source": [
    "from sklearn.datasets import load_wine\n",
    "print('Loading Wine dataset...')\n",
    "data = load_wine(return_X_y=True)\n",
    "print('Wine dataset loaded.')\n",
    "print('Number of samples: ', len(data[0]))\n",
    "print('Number of features: ', len(data[0][0]))\n",
    "print('Number of classes: ', len(np.unique(data[1])))\n",
    "print('Class labels: ', np.unique(data[1]))\n"
   ]
  },
  {
   "cell_type": "code",
   "execution_count": 21,
   "metadata": {},
   "outputs": [],
   "source": [
    "X = data[0]\n",
    "Y = data[1]\n",
    "data = np.concatenate((X,np.expand_dims(Y,axis=1)),axis=1)\n",
    "np.random.shuffle(data)\n",
    "trainData, testData = data[:int(len(data)*0.7),:], data[int(len(data)*0.7):,:] # 70% training, 30% testing\n",
    "trainData_X, trainData_Y = trainData[:,:-1], trainData[:,-1]\n",
    "testData_X, testData_Y = testData[:,:-1], testData[:,-1]\n"
   ]
  },
  {
   "cell_type": "code",
   "execution_count": 22,
   "metadata": {},
   "outputs": [
    {
     "data": {
      "text/plain": [
       "(array([1.284e+01, 2.960e+00, 2.610e+00, 2.400e+01, 1.010e+02, 2.320e+00,\n",
       "        6.000e-01, 5.300e-01, 8.100e-01, 4.920e+00, 8.900e-01, 2.150e+00,\n",
       "        5.900e+02]),\n",
       " 2.0)"
      ]
     },
     "execution_count": 22,
     "metadata": {},
     "output_type": "execute_result"
    }
   ],
   "source": [
    "trainData_X[0], trainData_Y[0]"
   ]
  },
  {
   "cell_type": "code",
   "execution_count": 29,
   "metadata": {},
   "outputs": [
    {
     "data": {
      "text/plain": [
       "2.0"
      ]
     },
     "execution_count": 29,
     "metadata": {},
     "output_type": "execute_result"
    }
   ],
   "source": [
    "test_sample = testData_X[0]\n",
    "knn(trainData_X, trainData_Y, test_sample)\n"
   ]
  }
 ],
 "metadata": {
  "kernelspec": {
   "display_name": "studysession",
   "language": "python",
   "name": "python3"
  },
  "language_info": {
   "codemirror_mode": {
    "name": "ipython",
    "version": 3
   },
   "file_extension": ".py",
   "mimetype": "text/x-python",
   "name": "python",
   "nbconvert_exporter": "python",
   "pygments_lexer": "ipython3",
   "version": "3.9.13"
  },
  "orig_nbformat": 4,
  "vscode": {
   "interpreter": {
    "hash": "b4abd812f3fa74ad1958c75a9f54fadad0bb3692d37c183b18e45b196ff23f12"
   }
  }
 },
 "nbformat": 4,
 "nbformat_minor": 2
}
