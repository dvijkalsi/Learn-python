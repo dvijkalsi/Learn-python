{
 "cells": [
  {
   "cell_type": "code",
   "execution_count": 3,
   "metadata": {},
   "outputs": [],
   "source": [
    "import numpy as np\n",
    "import matplotlib.pyplot as plt\n",
    "from sklearn.datasets import load_iris"
   ]
  },
  {
   "cell_type": "code",
   "execution_count": 4,
   "metadata": {},
   "outputs": [
    {
     "name": "stdout",
     "output_type": "stream",
     "text": [
      "Loading Iris dataset...\n",
      "Iris dataset loaded.\n",
      "Number of samples:  150\n",
      "Number of features:  4\n",
      "Number of classes:  3\n",
      "Class labels:  [0 1 2]\n"
     ]
    }
   ],
   "source": [
    "print(\"Loading Iris dataset...\")\n",
    "data = load_iris(return_X_y=True)\n",
    "print(\"Iris dataset loaded.\")\n",
    "print(\"Number of samples: \", len(data[0]))\n",
    "print(\"Number of features: \", len(data[0][0]))\n",
    "print(\"Number of classes: \", len(np.unique(data[1])))\n",
    "print(\"Class labels: \", np.unique(data[1]))\n"
   ]
  },
  {
   "cell_type": "code",
   "execution_count": 5,
   "metadata": {},
   "outputs": [],
   "source": [
    "X = data[0]\n",
    "Y = data[1]\n",
    "data = np.concatenate((X,np.expand_dims(Y,axis=1)),axis=1)\n",
    "np.random.shuffle(data)"
   ]
  },
  {
   "cell_type": "code",
   "execution_count": 6,
   "metadata": {},
   "outputs": [],
   "source": [
    "trainData, testData = data[:int(len(data)*0.7),:], data[int(len(data)*0.7):,:] # 70% training, 30% testing\n",
    "trainData_X, trainData_Y = trainData[:,:-1], trainData[:,-1]\n",
    "testData_X, testData_Y = testData[:,:-1], testData[:,-1]\n"
   ]
  },
  {
   "cell_type": "code",
   "execution_count": 7,
   "metadata": {},
   "outputs": [
    {
     "data": {
      "text/plain": [
       "(array([6.5, 2.8, 4.6, 1.5]), 1.0)"
      ]
     },
     "execution_count": 7,
     "metadata": {},
     "output_type": "execute_result"
    }
   ],
   "source": [
    "trainData_X[0], trainData_Y[0]"
   ]
  },
  {
   "cell_type": "code",
   "execution_count": 8,
   "metadata": {},
   "outputs": [],
   "source": [
    "test_sample = testData_X[0]"
   ]
  },
  {
   "cell_type": "code",
   "execution_count": 11,
   "metadata": {},
   "outputs": [],
   "source": [
    "from sklearn.metrics.pairwise import euclidean_distances"
   ]
  },
  {
   "cell_type": "code",
   "execution_count": 12,
   "metadata": {},
   "outputs": [
    {
     "data": {
      "text/plain": [
       "array([[3.92428337],\n",
       "       [4.7833043 ],\n",
       "       [4.23202079],\n",
       "       [5.22111099],\n",
       "       [4.29651021],\n",
       "       [3.65786823],\n",
       "       [0.65574385],\n",
       "       [0.31622777],\n",
       "       [3.51140997],\n",
       "       [5.38237866],\n",
       "       [5.43139025],\n",
       "       [0.26457513],\n",
       "       [0.50990195],\n",
       "       [3.22645316],\n",
       "       [4.51995575],\n",
       "       [0.14142136],\n",
       "       [4.75078941],\n",
       "       [5.16623654],\n",
       "       [5.67626638],\n",
       "       [4.09633983],\n",
       "       [4.99299509],\n",
       "       [4.30697109],\n",
       "       [0.9       ],\n",
       "       [4.27200187],\n",
       "       [3.95094925],\n",
       "       [0.33166248],\n",
       "       [2.81069386],\n",
       "       [2.19317122],\n",
       "       [0.64807407],\n",
       "       [2.47386338],\n",
       "       [0.55677644],\n",
       "       [3.90128184],\n",
       "       [2.92574777],\n",
       "       [0.3       ],\n",
       "       [4.16893272],\n",
       "       [3.75366488],\n",
       "       [3.25269119],\n",
       "       [0.42426407],\n",
       "       [4.29185275],\n",
       "       [3.48998567],\n",
       "       [4.37264222],\n",
       "       [3.34065862],\n",
       "       [5.75673519],\n",
       "       [0.59160798],\n",
       "       [4.57930126],\n",
       "       [5.2516664 ],\n",
       "       [6.62797103],\n",
       "       [3.27719392],\n",
       "       [5.16720427],\n",
       "       [0.55677644],\n",
       "       [4.23792402],\n",
       "       [6.22012862],\n",
       "       [3.52420204],\n",
       "       [0.6164414 ],\n",
       "       [3.40147027],\n",
       "       [3.46842904],\n",
       "       [4.73919824],\n",
       "       [0.79372539],\n",
       "       [0.9       ],\n",
       "       [3.1701735 ],\n",
       "       [4.79374593],\n",
       "       [1.00995049],\n",
       "       [3.76563408],\n",
       "       [3.89743505],\n",
       "       [4.77283983],\n",
       "       [4.63788745],\n",
       "       [0.34641016],\n",
       "       [0.36055513],\n",
       "       [0.5       ],\n",
       "       [5.42678542],\n",
       "       [0.6244998 ],\n",
       "       [3.1638584 ],\n",
       "       [4.18330013],\n",
       "       [0.64031242],\n",
       "       [0.50990195],\n",
       "       [2.61916017],\n",
       "       [3.09515751],\n",
       "       [6.3387696 ],\n",
       "       [6.35452595],\n",
       "       [3.73363094],\n",
       "       [0.31622777],\n",
       "       [3.70540146],\n",
       "       [5.92705661],\n",
       "       [5.24309069],\n",
       "       [2.97321375],\n",
       "       [0.37416574],\n",
       "       [2.42074369],\n",
       "       [3.548239  ],\n",
       "       [0.46904158],\n",
       "       [3.20624391],\n",
       "       [3.11769145],\n",
       "       [5.14003891],\n",
       "       [5.75760367],\n",
       "       [0.52915026],\n",
       "       [5.08133841],\n",
       "       [0.55677644],\n",
       "       [4.9939964 ],\n",
       "       [0.41231056],\n",
       "       [1.17473401],\n",
       "       [0.60827625],\n",
       "       [0.36055513],\n",
       "       [0.50990195],\n",
       "       [4.7116876 ],\n",
       "       [4.40113622],\n",
       "       [4.66583326]])"
      ]
     },
     "execution_count": 12,
     "metadata": {},
     "output_type": "execute_result"
    }
   ],
   "source": [
    "euclidean_distances(trainData_X, np.expand_dims(test_sample,axis=0))"
   ]
  },
  {
   "cell_type": "code",
   "execution_count": 18,
   "metadata": {},
   "outputs": [],
   "source": [
    "dist = np.concatenate(\n",
    "    (euclidean_distances(trainData_X, np.expand_dims(test_sample,axis=0)),\n",
    "    np.expand_dims(trainData_Y,axis=1)),\n",
    "    axis=1\n",
    ")"
   ]
  },
  {
   "cell_type": "code",
   "execution_count": 19,
   "metadata": {},
   "outputs": [
    {
     "data": {
      "text/plain": [
       "array([[3.92428337, 1.        ],\n",
       "       [4.7833043 , 2.        ],\n",
       "       [4.23202079, 2.        ],\n",
       "       [5.22111099, 2.        ],\n",
       "       [4.29651021, 1.        ],\n",
       "       [3.65786823, 2.        ],\n",
       "       [0.65574385, 0.        ],\n",
       "       [0.31622777, 0.        ],\n",
       "       [3.51140997, 1.        ],\n",
       "       [5.38237866, 2.        ],\n",
       "       [5.43139025, 2.        ],\n",
       "       [0.26457513, 0.        ],\n",
       "       [0.50990195, 0.        ],\n",
       "       [3.22645316, 1.        ],\n",
       "       [4.51995575, 2.        ],\n",
       "       [0.14142136, 0.        ],\n",
       "       [4.75078941, 2.        ],\n",
       "       [5.16623654, 2.        ],\n",
       "       [5.67626638, 2.        ],\n",
       "       [4.09633983, 2.        ],\n",
       "       [4.99299509, 2.        ],\n",
       "       [4.30697109, 2.        ],\n",
       "       [0.9       , 0.        ],\n",
       "       [4.27200187, 2.        ],\n",
       "       [3.95094925, 1.        ],\n",
       "       [0.33166248, 0.        ],\n",
       "       [2.81069386, 1.        ],\n",
       "       [2.19317122, 1.        ],\n",
       "       [0.64807407, 0.        ],\n",
       "       [2.47386338, 1.        ],\n",
       "       [0.55677644, 0.        ],\n",
       "       [3.90128184, 1.        ],\n",
       "       [2.92574777, 1.        ],\n",
       "       [0.3       , 0.        ],\n",
       "       [4.16893272, 1.        ],\n",
       "       [3.75366488, 1.        ],\n",
       "       [3.25269119, 1.        ],\n",
       "       [0.42426407, 0.        ],\n",
       "       [4.29185275, 2.        ],\n",
       "       [3.48998567, 1.        ],\n",
       "       [4.37264222, 1.        ],\n",
       "       [3.34065862, 1.        ],\n",
       "       [5.75673519, 2.        ],\n",
       "       [0.59160798, 0.        ],\n",
       "       [4.57930126, 2.        ],\n",
       "       [5.2516664 , 2.        ],\n",
       "       [6.62797103, 2.        ],\n",
       "       [3.27719392, 1.        ],\n",
       "       [5.16720427, 2.        ],\n",
       "       [0.55677644, 0.        ],\n",
       "       [4.23792402, 1.        ],\n",
       "       [6.22012862, 2.        ],\n",
       "       [3.52420204, 1.        ],\n",
       "       [0.6164414 , 0.        ],\n",
       "       [3.40147027, 1.        ],\n",
       "       [3.46842904, 1.        ],\n",
       "       [4.73919824, 2.        ],\n",
       "       [0.79372539, 0.        ],\n",
       "       [0.9       , 0.        ],\n",
       "       [3.1701735 , 1.        ],\n",
       "       [4.79374593, 2.        ],\n",
       "       [1.00995049, 0.        ],\n",
       "       [3.76563408, 1.        ],\n",
       "       [3.89743505, 1.        ],\n",
       "       [4.77283983, 2.        ],\n",
       "       [4.63788745, 2.        ],\n",
       "       [0.34641016, 0.        ],\n",
       "       [0.36055513, 0.        ],\n",
       "       [0.5       , 0.        ],\n",
       "       [5.42678542, 2.        ],\n",
       "       [0.6244998 , 0.        ],\n",
       "       [3.1638584 , 1.        ],\n",
       "       [4.18330013, 1.        ],\n",
       "       [0.64031242, 0.        ],\n",
       "       [0.50990195, 0.        ],\n",
       "       [2.61916017, 1.        ],\n",
       "       [3.09515751, 1.        ],\n",
       "       [6.3387696 , 2.        ],\n",
       "       [6.35452595, 2.        ],\n",
       "       [3.73363094, 1.        ],\n",
       "       [0.31622777, 0.        ],\n",
       "       [3.70540146, 1.        ],\n",
       "       [5.92705661, 2.        ],\n",
       "       [5.24309069, 2.        ],\n",
       "       [2.97321375, 1.        ],\n",
       "       [0.37416574, 0.        ],\n",
       "       [2.42074369, 1.        ],\n",
       "       [3.548239  , 1.        ],\n",
       "       [0.46904158, 0.        ],\n",
       "       [3.20624391, 1.        ],\n",
       "       [3.11769145, 1.        ],\n",
       "       [5.14003891, 2.        ],\n",
       "       [5.75760367, 2.        ],\n",
       "       [0.52915026, 0.        ],\n",
       "       [5.08133841, 2.        ],\n",
       "       [0.55677644, 0.        ],\n",
       "       [4.9939964 , 2.        ],\n",
       "       [0.41231056, 0.        ],\n",
       "       [1.17473401, 0.        ],\n",
       "       [0.60827625, 0.        ],\n",
       "       [0.36055513, 0.        ],\n",
       "       [0.50990195, 0.        ],\n",
       "       [4.7116876 , 2.        ],\n",
       "       [4.40113622, 2.        ],\n",
       "       [4.66583326, 2.        ]])"
      ]
     },
     "execution_count": 19,
     "metadata": {},
     "output_type": "execute_result"
    }
   ],
   "source": [
    "dist"
   ]
  },
  {
   "cell_type": "code",
   "execution_count": 20,
   "metadata": {},
   "outputs": [],
   "source": [
    "dist = dist[dist[:,0].argsort()]\n"
   ]
  },
  {
   "cell_type": "code",
   "execution_count": 34,
   "metadata": {},
   "outputs": [
    {
     "data": {
      "text/plain": [
       "array([[0.14142136, 0.        ],\n",
       "       [0.26457513, 0.        ],\n",
       "       [0.3       , 0.        ],\n",
       "       [0.31622777, 0.        ],\n",
       "       [0.31622777, 0.        ],\n",
       "       [0.33166248, 0.        ],\n",
       "       [0.34641016, 0.        ]])"
      ]
     },
     "execution_count": 34,
     "metadata": {},
     "output_type": "execute_result"
    }
   ],
   "source": [
    "k=7\n",
    "dist[:k]"
   ]
  },
  {
   "cell_type": "code",
   "execution_count": 35,
   "metadata": {},
   "outputs": [],
   "source": [
    "unique_elements, counts_elements = np.unique(dist[:k][:,1], return_counts=True)"
   ]
  },
  {
   "cell_type": "code",
   "execution_count": 36,
   "metadata": {},
   "outputs": [
    {
     "data": {
      "text/plain": [
       "(array([0.]), array([7], dtype=int64))"
      ]
     },
     "execution_count": 36,
     "metadata": {},
     "output_type": "execute_result"
    }
   ],
   "source": [
    "unique_elements, counts_elements"
   ]
  },
  {
   "cell_type": "code",
   "execution_count": 37,
   "metadata": {},
   "outputs": [],
   "source": [
    "frequency = np.concatenate(\n",
    "    (np.expand_dims(unique_elements,axis=1),\n",
    "    np.expand_dims(counts_elements,axis=1)),\n",
    "    axis=1\n",
    ")\n",
    "frequency = frequency[frequency[:,1].argsort()]"
   ]
  },
  {
   "cell_type": "code",
   "execution_count": 38,
   "metadata": {},
   "outputs": [
    {
     "data": {
      "text/plain": [
       "array([[0., 7.]])"
      ]
     },
     "execution_count": 38,
     "metadata": {},
     "output_type": "execute_result"
    }
   ],
   "source": [
    "frequency"
   ]
  }
 ],
 "metadata": {
  "kernelspec": {
   "display_name": "studysession",
   "language": "python",
   "name": "python3"
  },
  "language_info": {
   "codemirror_mode": {
    "name": "ipython",
    "version": 3
   },
   "file_extension": ".py",
   "mimetype": "text/x-python",
   "name": "python",
   "nbconvert_exporter": "python",
   "pygments_lexer": "ipython3",
   "version": "3.9.13"
  },
  "orig_nbformat": 4,
  "vscode": {
   "interpreter": {
    "hash": "b4abd812f3fa74ad1958c75a9f54fadad0bb3692d37c183b18e45b196ff23f12"
   }
  }
 },
 "nbformat": 4,
 "nbformat_minor": 2
}
