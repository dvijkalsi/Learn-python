{
 "cells": [
  {
   "cell_type": "code",
   "execution_count": 480,
   "metadata": {},
   "outputs": [],
   "source": [
    "import numpy as np\n",
    "import matplotlib.pyplot as plt\n",
    "from sklearn.datasets import load_iris"
   ]
  },
  {
   "cell_type": "code",
   "execution_count": 481,
   "metadata": {},
   "outputs": [
    {
     "name": "stdout",
     "output_type": "stream",
     "text": [
      "Loading Iris dataset...\n",
      "Iris dataset loaded.\n",
      "Number of samples:  150\n",
      "Number of features:  4\n",
      "Number of classes:  3\n",
      "Class labels:  [0 1 2]\n"
     ]
    }
   ],
   "source": [
    "print(\"Loading Iris dataset...\")\n",
    "data = load_iris(return_X_y=True)\n",
    "print(\"Iris dataset loaded.\")\n",
    "print(\"Number of samples: \", len(data[0]))\n",
    "print(\"Number of features: \", len(data[0][0]))\n",
    "print(\"Number of classes: \", len(np.unique(data[1])))\n",
    "print(\"Class labels: \", np.unique(data[1]))\n"
   ]
  },
  {
   "cell_type": "code",
   "execution_count": 482,
   "metadata": {},
   "outputs": [],
   "source": [
    "X = data[0]\n",
    "Y = data[1]\n",
    "data = np.concatenate((X,np.expand_dims(Y,axis=1)),axis=1)\n",
    "np.random.shuffle(data)"
   ]
  },
  {
   "cell_type": "code",
   "execution_count": 483,
   "metadata": {},
   "outputs": [],
   "source": [
    "trainData, testData = data[:int(len(data)*0.7),:], data[int(len(data)*0.7):,:] # 70% training, 30% testing\n",
    "trainData_X, trainData_Y = trainData[:,:-1], trainData[:,-1]\n",
    "testData_X, testData_Y = testData[:,:-1], testData[:,-1]\n"
   ]
  },
  {
   "cell_type": "code",
   "execution_count": 484,
   "metadata": {},
   "outputs": [],
   "source": [
    "from sklearn.metrics.pairwise import euclidean_distances"
   ]
  },
  {
   "cell_type": "code",
   "execution_count": 485,
   "metadata": {},
   "outputs": [
    {
     "data": {
      "text/plain": [
       "2.0"
      ]
     },
     "execution_count": 485,
     "metadata": {},
     "output_type": "execute_result"
    }
   ],
   "source": [
    "def knn(trainData_X, trainData_Y, test_sample, k=7):\n",
    "    dist = np.concatenate(\n",
    "        (euclidean_distances(trainData_X, np.expand_dims(test_sample,axis=0)),\n",
    "        np.expand_dims(trainData_Y,axis=1)),\n",
    "        axis=1\n",
    "    )\n",
    "    dist = dist[dist[:,0].argsort()]\n",
    "    unique_elements, counts_elements = np.unique(dist[:k][:,1], return_counts=True)\n",
    "    frequency = np.concatenate(\n",
    "        (np.expand_dims(unique_elements,axis=1),\n",
    "        np.expand_dims(counts_elements,axis=1)),\n",
    "        axis=1\n",
    "    )\n",
    "    frequency = frequency[frequency[:,1].argsort()]\n",
    "    pred_label = frequency[0,0]\n",
    "    return pred_label\n",
    "\n",
    "knn(trainData_X, trainData_Y, testData_X[0], k=7)"
   ]
  },
  {
   "cell_type": "code",
   "execution_count": 486,
   "metadata": {},
   "outputs": [
    {
     "data": {
      "text/plain": [
       "2.0"
      ]
     },
     "execution_count": 486,
     "metadata": {},
     "output_type": "execute_result"
    }
   ],
   "source": [
    "knn(trainData_X, trainData_Y, testData_X[3], k=110)"
   ]
  },
  {
   "attachments": {},
   "cell_type": "markdown",
   "metadata": {},
   "source": [
    "checking accuraacy of iris dataset\n"
   ]
  },
  {
   "cell_type": "code",
   "execution_count": 487,
   "metadata": {},
   "outputs": [
    {
     "name": "stdout",
     "output_type": "stream",
     "text": [
      "[2.0, 0.0, 2.0, 0.0, 1.0, 1.0, 1.0, 0.0, 1.0, 1.0, 1.0, 2.0, 2.0, 0.0, 0.0, 2.0, 2.0, 0.0, 2.0, 2.0, 0.0, 1.0, 0.0, 1.0, 1.0, 2.0, 1.0, 2.0, 2.0, 2.0, 1.0, 0.0, 2.0, 1.0, 0.0, 0.0, 0.0, 2.0, 0.0, 1.0, 2.0, 0.0, 1.0, 2.0, 2.0]\n",
      "39\n"
     ]
    },
    {
     "data": {
      "image/png": "[encoded data removed]",
      "text/plain": [
       "<Figure size 2000x400 with 1 Axes>"
      ]
     },
     "metadata": {},
     "output_type": "display_data"
    }
   ],
   "source": [
    "pred_list = [knn(trainData_X, trainData_Y, testData_X[i]) for i in range( testData_X.shape[0])]\n",
    "print(pred_list)\n",
    "matchCount = 0\n",
    "for i in range(len(testData_Y)):\n",
    "    if testData_Y[i] == pred_list[i]:\n",
    "        matchCount += 1\n",
    "print(matchCount)\n",
    "accuracy_on_k = [np.sum([1 if knn(trainData_X, trainData_Y, testData_X[i],k) == testData_Y[i] else 0\n",
    "        for i in range(len(testData_X)) ]) / len(testData_X)\n",
    "        for k in range(3,90,4) ]\n",
    "plt.figure(figsize=(20,4))\n",
    "plt.bar(np.arange(3,90,4),accuracy_on_k)\n",
    "plt.show()"
   ]
  },
  {
   "cell_type": "code",
   "execution_count": 488,
   "metadata": {},
   "outputs": [
    {
     "name": "stdout",
     "output_type": "stream",
     "text": [
      "Loading Wine dataset...\n",
      "Wine dataset loaded.\n",
      "Number of samples:  178\n",
      "Number of features:  13\n",
      "Number of classes:  3\n",
      "Class labels:  [0 1 2]\n"
     ]
    }
   ],
   "source": [
    "from sklearn.datasets import load_wine\n",
    "print('Loading Wine dataset...')\n",
    "data = load_wine(return_X_y=True)\n",
    "print('Wine dataset loaded.')\n",
    "print('Number of samples: ', len(data[0]))\n",
    "print('Number of features: ', len(data[0][0]))\n",
    "print('Number of classes: ', len(np.unique(data[1])))\n",
    "print('Class labels: ', np.unique(data[1]))\n"
   ]
  },
  {
   "cell_type": "code",
   "execution_count": 489,
   "metadata": {},
   "outputs": [],
   "source": [
    "X = data[0]\n",
    "Y = data[1]\n",
    "data = np.concatenate((X,np.expand_dims(Y,axis=1)),axis=1)\n",
    "np.random.shuffle(data)\n",
    "trainData, testData = data[:int(len(data)*0.7),:], data[int(len(data)*0.7):,:] # 70% training, 30% testing\n",
    "trainData_X, trainData_Y = trainData[:,:-1], trainData[:,-1]\n",
    "testData_X, testData_Y = testData[:,:-1], testData[:,-1]\n"
   ]
  },
  {
   "cell_type": "code",
   "execution_count": 490,
   "metadata": {},
   "outputs": [
    {
     "data": {
      "text/plain": [
       "(array([1.229e+01, 2.830e+00, 2.220e+00, 1.800e+01, 8.800e+01, 2.450e+00,\n",
       "        2.250e+00, 2.500e-01, 1.990e+00, 2.150e+00, 1.150e+00, 3.300e+00,\n",
       "        2.900e+02]),\n",
       " 1.0)"
      ]
     },
     "execution_count": 490,
     "metadata": {},
     "output_type": "execute_result"
    }
   ],
   "source": [
    "trainData_X[0], trainData_Y[0]"
   ]
  },
  {
   "cell_type": "code",
   "execution_count": 491,
   "metadata": {},
   "outputs": [
    {
     "data": {
      "text/plain": [
       "0.0"
      ]
     },
     "execution_count": 491,
     "metadata": {},
     "output_type": "execute_result"
    }
   ],
   "source": [
    "test_sample = testData_X[0]\n",
    "knn(trainData_X, trainData_Y, test_sample)\n"
   ]
  },
  {
   "cell_type": "code",
   "execution_count": 492,
   "metadata": {},
   "outputs": [],
   "source": [
    "pred_list = [knn(trainData_X, trainData_Y, testData_X[i]) for i in range( testData_X.shape[0])]"
   ]
  },
  {
   "cell_type": "code",
   "execution_count": 493,
   "metadata": {},
   "outputs": [
    {
     "name": "stdout",
     "output_type": "stream",
     "text": [
      "[0.0, 0.0, 0.0, 1.0, 1.0, 2.0, 0.0, 1.0, 0.0, 2.0, 2.0, 2.0, 1.0, 1.0, 1.0, 0.0, 2.0, 1.0, 1.0, 0.0, 1.0, 0.0, 1.0, 0.0, 1.0, 1.0, 1.0, 0.0, 1.0, 0.0, 2.0, 1.0, 1.0, 0.0, 2.0, 1.0, 2.0, 2.0, 1.0, 2.0, 1.0, 1.0, 1.0, 2.0, 0.0, 2.0, 1.0, 0.0, 1.0, 2.0, 2.0, 2.0, 0.0, 0.0]\n"
     ]
    }
   ],
   "source": [
    "print(pred_list)\n"
   ]
  },
  {
   "cell_type": "code",
   "execution_count": 494,
   "metadata": {},
   "outputs": [
    {
     "name": "stdout",
     "output_type": "stream",
     "text": [
      "29\n"
     ]
    }
   ],
   "source": [
    "matchCount = 0\n",
    "for i in range(len(testData_Y)):\n",
    "    if testData_Y[i] == pred_list[i]:\n",
    "        matchCount += 1\n",
    "print(matchCount)"
   ]
  },
  {
   "cell_type": "code",
   "execution_count": 495,
   "metadata": {},
   "outputs": [
    {
     "data": {
      "text/plain": [
       "105.0"
      ]
     },
     "execution_count": 495,
     "metadata": {},
     "output_type": "execute_result"
    }
   ],
   "source": [
    "150*.7"
   ]
  },
  {
   "cell_type": "code",
   "execution_count": 496,
   "metadata": {},
   "outputs": [
    {
     "data": {
      "text/plain": [
       "0.5370370370370371"
      ]
     },
     "execution_count": 496,
     "metadata": {},
     "output_type": "execute_result"
    }
   ],
   "source": [
    "matchCount/len(testData_Y)"
   ]
  },
  {
   "cell_type": "code",
   "execution_count": 497,
   "metadata": {},
   "outputs": [],
   "source": [
    "accuracy_on_k = [np.sum([1 if knn(trainData_X, trainData_Y, testData_X[i],k) == testData_Y[i] else 0\n",
    "        for i in range(len(testData_X)) ]) / len(testData_X)\n",
    "        for k in range(3,100,4) ]"
   ]
  },
  {
   "cell_type": "code",
   "execution_count": 498,
   "metadata": {},
   "outputs": [
    {
     "data": {
      "image/png": "[encoded data removed]",
      "text/plain": [
       "<Figure size 2000x400 with 1 Axes>"
      ]
     },
     "metadata": {},
     "output_type": "display_data"
    }
   ],
   "source": [
    "plt.figure(figsize=(20,4))\n",
    "plt.bar(np.arange(3,100,4),accuracy_on_k)\n",
    "plt.show()"
   ]
  }
 ],
 "metadata": {
  "kernelspec": {
   "display_name": "base",
   "language": "python",
   "name": "python3"
  },
  "language_info": {
   "codemirror_mode": {
    "name": "ipython",
    "version": 3
   },
   "file_extension": ".py",
   "mimetype": "text/x-python",
   "name": "python",
   "nbconvert_exporter": "python",
   "pygments_lexer": "ipython3",
   "version": "3.9.13"
  },
  "orig_nbformat": 4,
  "vscode": {
   "interpreter": {
    "hash": "e372e5aeeb73fa1c10673162e4325d4b75b3bbd00ac374fb588bc5b71c4ffb6c"
   }
  }
 },
 "nbformat": 4,
 "nbformat_minor": 2
}
