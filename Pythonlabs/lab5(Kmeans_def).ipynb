{
 "cells": [
  {
   "attachments": {},
   "cell_type": "markdown",
   "metadata": {},
   "source": [
    "# Kmeans Clustering definition"
   ]
  },
  {
   "attachments": {},
   "cell_type": "markdown",
   "metadata": {},
   "source": [
    "## importing libraries and dataset"
   ]
  },
  {
   "cell_type": "code",
   "execution_count": 25,
   "metadata": {},
   "outputs": [
    {
     "name": "stdout",
     "output_type": "stream",
     "text": [
      "(150, 4)\n",
      "(150,)\n"
     ]
    }
   ],
   "source": [
    "import numpy as np\n",
    "from sklearn.datasets import load_iris\n",
    "from sklearn.metrics import euclidean_distances\n",
    "from sklearn.metrics.cluster import contingency_matrix\n",
    "data = load_iris(return_X_y=True)\n",
    "X = data[0]\n",
    "y = data[1]\n",
    "print(X.shape)\n",
    "print(y.shape)"
   ]
  },
  {
   "attachments": {},
   "cell_type": "markdown",
   "metadata": {},
   "source": [
    "## Initializing centers"
   ]
  },
  {
   "cell_type": "code",
   "execution_count": 46,
   "metadata": {},
   "outputs": [
    {
     "name": "stdout",
     "output_type": "stream",
     "text": [
      "RandomIndices:  [105  58  96]\n",
      "Initial Centers:  [[7.6 3.  6.6 2.1]\n",
      " [6.6 2.9 4.6 1.3]\n",
      " [5.7 2.9 4.2 1.3]]\n"
     ]
    }
   ],
   "source": [
    "n_clusters = 3\n",
    "\n",
    "randomIndices = np.random.randint(len(y), size = (n_clusters))\n",
    "print('RandomIndices: ', randomIndices)\n",
    "init_centers = X[randomIndices]\n",
    "print('Initial Centers: ', init_centers)\n"
   ]
  },
  {
   "attachments": {},
   "cell_type": "markdown",
   "metadata": {},
   "source": [
    "## Iterating over array to calculate Kmeans centers"
   ]
  },
  {
   "cell_type": "code",
   "execution_count": 47,
   "metadata": {},
   "outputs": [
    {
     "name": "stdout",
     "output_type": "stream",
     "text": [
      "[[7.6 3.  6.6 2.1]\n",
      " [6.6 2.9 4.6 1.3]\n",
      " [5.7 2.9 4.2 1.3]]\n",
      "[[7.15       3.12       6.09       2.135     ]\n",
      " [6.40227273 2.90909091 4.975      1.71363636]\n",
      " [5.25348837 3.11860465 2.59302326 0.71860465]]\n",
      "[[7.08695652 3.12608696 6.01304348 2.14347826]\n",
      " [6.11323529 2.83970588 4.71617647 1.59411765]\n",
      " [5.04745763 3.28135593 1.77457627 0.37627119]]\n",
      "[[6.95       3.10666667 5.86666667 2.15333333]\n",
      " [6.01044776 2.7880597  4.55223881 1.49104478]\n",
      " [5.00566038 3.36981132 1.56037736 0.29056604]]\n",
      "[[6.87428571 3.08857143 5.79142857 2.11714286]\n",
      " [5.93230769 2.75538462 4.42923077 1.43846154]\n",
      " [5.006      3.428      1.462      0.246     ]]\n",
      "[[6.85       3.07368421 5.74210526 2.07105263]\n",
      " [5.9016129  2.7483871  4.39354839 1.43387097]\n",
      " [5.006      3.428      1.462      0.246     ]]\n"
     ]
    }
   ],
   "source": [
    "max_iter = 30\n",
    "tol = 0.0001\n",
    "\n",
    "labels_ = np.full(y.shape, -1)\n",
    "itr = 0\n",
    "centers = init_centers\n",
    "while itr < max_iter:\n",
    "    print(centers)\n",
    "    itr += 1\n",
    "\n",
    "    for i in range(len(y)):\n",
    "        labels_[i] = np.argmin(euclidean_distances([X[i]], centers)[0])\n",
    "\n",
    "    next_centers = np.array([np.mean(X[labels_ == l], axis=0) for l in np.unique(labels_)])\n",
    "\n",
    "    if(np.mean(np.abs(next_centers - centers)) < tol):\n",
    "        break\n",
    "\n",
    "    centers = next_centers"
   ]
  },
  {
   "cell_type": "code",
   "execution_count": 48,
   "metadata": {},
   "outputs": [
    {
     "data": {
      "text/plain": [
       "array([2, 2, 2, 2, 2, 2, 2, 2, 2, 2, 2, 2, 2, 2, 2, 2, 2, 2, 2, 2, 2, 2,\n",
       "       2, 2, 2, 2, 2, 2, 2, 2, 2, 2, 2, 2, 2, 2, 2, 2, 2, 2, 2, 2, 2, 2,\n",
       "       2, 2, 2, 2, 2, 2, 1, 1, 0, 1, 1, 1, 1, 1, 1, 1, 1, 1, 1, 1, 1, 1,\n",
       "       1, 1, 1, 1, 1, 1, 1, 1, 1, 1, 1, 0, 1, 1, 1, 1, 1, 1, 1, 1, 1, 1,\n",
       "       1, 1, 1, 1, 1, 1, 1, 1, 1, 1, 1, 1, 0, 1, 0, 0, 0, 0, 1, 0, 0, 0,\n",
       "       0, 0, 0, 1, 1, 0, 0, 0, 0, 1, 0, 1, 0, 1, 0, 0, 1, 1, 0, 0, 0, 0,\n",
       "       0, 1, 0, 0, 0, 0, 1, 0, 0, 0, 1, 0, 0, 0, 1, 0, 0, 1])"
      ]
     },
     "execution_count": 48,
     "metadata": {},
     "output_type": "execute_result"
    }
   ],
   "source": [
    "labels_"
   ]
  },
  {
   "attachments": {},
   "cell_type": "markdown",
   "metadata": {},
   "source": [
    "## Calculating accuracy"
   ]
  },
  {
   "cell_type": "code",
   "execution_count": 49,
   "metadata": {},
   "outputs": [
    {
     "name": "stdout",
     "output_type": "stream",
     "text": [
      "[[ 0  2 36]\n",
      " [ 0 48 14]\n",
      " [50  0  0]]\n"
     ]
    }
   ],
   "source": [
    "c = contingency_matrix(labels_, y)\n",
    "print(c)"
   ]
  },
  {
   "cell_type": "code",
   "execution_count": 50,
   "metadata": {},
   "outputs": [
    {
     "data": {
      "text/plain": [
       "0.8933333333333333"
      ]
     },
     "execution_count": 50,
     "metadata": {},
     "output_type": "execute_result"
    }
   ],
   "source": [
    "np.sum(c.ravel()[np.argpartition(c.ravel(), -n_clusters)[-n_clusters:]]) / len(y)"
   ]
  }
 ],
 "metadata": {
  "kernelspec": {
   "display_name": "studysession",
   "language": "python",
   "name": "python3"
  },
  "language_info": {
   "codemirror_mode": {
    "name": "ipython",
    "version": 3
   },
   "file_extension": ".py",
   "mimetype": "text/x-python",
   "name": "python",
   "nbconvert_exporter": "python",
   "pygments_lexer": "ipython3",
   "version": "3.9.13"
  },
  "orig_nbformat": 4,
  "vscode": {
   "interpreter": {
    "hash": "b4abd812f3fa74ad1958c75a9f54fadad0bb3692d37c183b18e45b196ff23f12"
   }
  }
 },
 "nbformat": 4,
 "nbformat_minor": 2
}
