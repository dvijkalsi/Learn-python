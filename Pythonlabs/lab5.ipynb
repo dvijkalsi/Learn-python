{
 "cells": [
  {
   "attachments": {},
   "cell_type": "markdown",
   "metadata": {},
   "source": [
    "# Kmeans Clustering definition"
   ]
  },
  {
   "attachments": {},
   "cell_type": "markdown",
   "metadata": {},
   "source": [
    "## importing libraries an dataset"
   ]
  },
  {
   "cell_type": "code",
   "execution_count": 5,
   "metadata": {},
   "outputs": [
    {
     "name": "stdout",
     "output_type": "stream",
     "text": [
      "(150, 4)\n",
      "(150,)\n"
     ]
    }
   ],
   "source": [
    "import numpy as np\n",
    "from sklearn.datasets import load_iris\n",
    "from sklearn.metrics import euclidean_distances\n",
    "\n",
    "data = load_iris(return_X_y=True)\n",
    "X = data[0]\n",
    "y = data[1]\n",
    "print(X.shape)\n",
    "print(y.shape)"
   ]
  },
  {
   "cell_type": "code",
   "execution_count": 6,
   "metadata": {},
   "outputs": [
    {
     "name": "stdout",
     "output_type": "stream",
     "text": [
      "RandomIndices:  [76  8 24]\n",
      "Initial Centers:  [[6.8 2.8 4.8 1.4]\n",
      " [4.4 2.9 1.4 0.2]\n",
      " [4.8 3.4 1.9 0.2]]\n"
     ]
    }
   ],
   "source": [
    "n_clusters = 3\n",
    "\n",
    "randomIndices = np.random.randint(len(y), size = (n_clusters))\n",
    "print('RandomIndices: ', randomIndices)\n",
    "init_centers = X[randomIndices]\n",
    "print('Initial Centers: ', init_centers)\n"
   ]
  },
  {
   "cell_type": "code",
   "execution_count": 19,
   "metadata": {},
   "outputs": [
    {
     "name": "stdout",
     "output_type": "stream",
     "text": [
      "[[6.8 2.8 4.8 1.4]\n",
      " [4.4 2.9 1.4 0.2]\n",
      " [4.8 3.4 1.9 0.2]]\n",
      "[[6.31458333 2.89583333 4.97395833 1.703125  ]\n",
      " [4.61538462 3.05384615 1.30769231 0.2       ]\n",
      " [5.12926829 3.43658537 1.68780488 0.33658537]]\n",
      "[[6.30103093 2.88659794 4.95876289 1.69587629]\n",
      " [4.66111111 3.08888889 1.36666667 0.2       ]\n",
      " [5.18285714 3.51428571 1.66       0.33714286]]\n",
      "[[6.30103093 2.88659794 4.95876289 1.69587629]\n",
      " [4.7        3.10952381 1.39047619 0.2       ]\n",
      " [5.20625    3.540625   1.671875   0.35      ]]\n"
     ]
    }
   ],
   "source": [
    "max_iter = 30\n",
    "tol = 0.001\n",
    "\n",
    "labels_ = np.full(y.shape, -1)\n",
    "itr = 0\n",
    "centers = init_centers\n",
    "while itr < max_iter:\n",
    "    print(centers)\n",
    "    itr += 1\n",
    "\n",
    "    for i in range(len(y)):\n",
    "        labels_[i] = np.argmin(euclidean_distances([X[i]], centers)[0])\n",
    "\n",
    "    next_centers = np.array([np.mean(X[labels_ == l], axis=0) for l in np.unique(labels_)])\n",
    "\n",
    "    if(np.mean(np.abs(next_centers - centers)) < tol):\n",
    "        break\n",
    "\n",
    "    centers = next_centers"
   ]
  }
 ],
 "metadata": {
  "kernelspec": {
   "display_name": "studysession",
   "language": "python",
   "name": "python3"
  },
  "language_info": {
   "codemirror_mode": {
    "name": "ipython",
    "version": 3
   },
   "file_extension": ".py",
   "mimetype": "text/x-python",
   "name": "python",
   "nbconvert_exporter": "python",
   "pygments_lexer": "ipython3",
   "version": "3.9.13"
  },
  "orig_nbformat": 4,
  "vscode": {
   "interpreter": {
    "hash": "b4abd812f3fa74ad1958c75a9f54fadad0bb3692d37c183b18e45b196ff23f12"
   }
  }
 },
 "nbformat": 4,
 "nbformat_minor": 2
}
