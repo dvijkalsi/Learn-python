{
 "cells": [
  {
   "cell_type": "code",
   "execution_count": 10,
   "metadata": {},
   "outputs": [
    {
     "name": "stdout",
     "output_type": "stream",
     "text": [
      "Enter the value of n\n",
      "Sum of squares of first 2 odd numbers is 10\n"
     ]
    }
   ],
   "source": [
    "#Print the summation of squares of first n (runtime input) odd numbers.\n",
    "print('Enter the value of n')\n",
    "n=int(input())\n",
    "sum=0\n",
    "for i in range(1,n+1):\n",
    "    sum=sum+(2*i-1)**2\n",
    "print('Sum of squares of first',n,'odd numbers is',sum)"
   ]
  },
  {
   "cell_type": "code",
   "execution_count": 12,
   "metadata": {},
   "outputs": [
    {
     "name": "stdout",
     "output_type": "stream",
     "text": [
      "Enter a string\n",
      "plpa is not a palindrome\n"
     ]
    }
   ],
   "source": [
    "#Check if a string is palindrome using a suitable function.\n",
    "def palindrome(s):\n",
    "    if s==s[::-1]:\n",
    "        return True\n",
    "    else:\n",
    "        return False\n",
    "print('Enter a string')\n",
    "s=input()\n",
    "if palindrome(s):\n",
    "    print(s,'is a palindrome')\n",
    "else:\n",
    "    print(s,'is not a palindrome')\n",
    "    "
   ]
  },
  {
   "cell_type": "code",
   "execution_count": 5,
   "metadata": {},
   "outputs": [
    {
     "name": "stdout",
     "output_type": "stream",
     "text": [
      "Enter the number of strings\n",
      "Enter string 1\n",
      "Enter string 2\n",
      "Enter string 3\n",
      "Indices of strings more than one character long are\n",
      "0\n",
      "2\n"
     ]
    }
   ],
   "source": [
    "#Create a list of strings, and print the indices of the strings in the list, which are more than one character long.\n",
    "print('Enter the number of strings')\n",
    "n=int(input())\n",
    "l=[]\n",
    "for i in range(n):\n",
    "    print('Enter string',i+1)\n",
    "    l.append(input())\n",
    "print('Indices of strings more than one character long are')\n",
    "for i in range(n):\n",
    "    if len(l[i])>1:\n",
    "        print(i)\n"
   ]
  },
  {
   "cell_type": "code",
   "execution_count": 7,
   "metadata": {},
   "outputs": [
    {
     "name": "stdout",
     "output_type": "stream",
     "text": [
      "Enter the number of rows and columns of the first matrix\n",
      "Enter the elements of the first matrix\n",
      "Enter the number of rows and columns of the second matrix\n",
      "Enter the elements of the second matrix\n",
      "The multiplication result of the two matrices is\n",
      "8 8 \n",
      "8 8 \n"
     ]
    }
   ],
   "source": [
    "#Multiplication result of two 2-D matrices. Put suitable condition checking also.\n",
    "print('Enter the number of rows and columns of the first matrix')\n",
    "r1=int(input())\n",
    "c1=int(input())\n",
    "print('Enter the elements of the first matrix')\n",
    "m1=[]\n",
    "for i in range(r1):\n",
    "    m1.append([])\n",
    "    for j in range(c1):\n",
    "        m1[i].append(int(input()))\n",
    "print('Enter the number of rows and columns of the second matrix')\n",
    "r2=int(input())\n",
    "c2=int(input())\n",
    "print('Enter the elements of the second matrix')\n",
    "m2=[]\n",
    "for i in range(r2):\n",
    "    m2.append([])\n",
    "    for j in range(c2):\n",
    "        m2[i].append(int(input()))\n",
    "if c1==r2:\n",
    "    print('The multiplication result of the two matrices is')\n",
    "    m3=[]\n",
    "    for i in range(r1):\n",
    "        m3.append([])\n",
    "        for j in range(c2):\n",
    "            m3[i].append(0)\n",
    "            for k in range(c1):\n",
    "                m3[i][j]+=m1[i][k]*m2[k][j]\n",
    "    for i in range(r1):\n",
    "        for j in range(c2):\n",
    "            print(m3[i][j],end=' ')\n",
    "        print()\n",
    "else:\n",
    "    print('The multiplication of the two matrices is not possible')\n",
    "\n"
   ]
  },
  {
   "cell_type": "code",
   "execution_count": null,
   "metadata": {},
   "outputs": [],
   "source": [
    "# # state two differences between C and Python.\n",
    "\n",
    "# Name as many Python built-in data types as you can, which are not available in C.\n",
    "\n",
    "# State difference between list and tuple.\n",
    "\n",
    "# Describe atleast three built-in functions for lists in pyhton, with example.\n",
    "\n",
    "# How to create array in python.\n"
   ]
  }
 ],
 "metadata": {
  "kernelspec": {
   "display_name": "studysession",
   "language": "python",
   "name": "python3"
  },
  "language_info": {
   "codemirror_mode": {
    "name": "ipython",
    "version": 3
   },
   "file_extension": ".py",
   "mimetype": "text/x-python",
   "name": "python",
   "nbconvert_exporter": "python",
   "pygments_lexer": "ipython3",
   "version": "3.9.13"
  },
  "orig_nbformat": 4,
  "vscode": {
   "interpreter": {
    "hash": "b4abd812f3fa74ad1958c75a9f54fadad0bb3692d37c183b18e45b196ff23f12"
   }
  }
 },
 "nbformat": 4,
 "nbformat_minor": 2
}
