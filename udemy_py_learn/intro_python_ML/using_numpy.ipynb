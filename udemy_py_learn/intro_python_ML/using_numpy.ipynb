{
 "cells": [
  {
   "cell_type": "code",
   "execution_count": 1,
   "metadata": {},
   "outputs": [
    {
     "name": "stdout",
     "output_type": "stream",
     "text": [
      "[[ 2  4  6]\n",
      " [ 6  8 10]]\n"
     ]
    }
   ],
   "source": [
    "import numpy as np\n",
    "\n",
    "# var1=np.array((1,2,3,4,5))\n",
    "# print(var1)\n",
    "var2 = np.array([[1, 2, 3], [3, 4, 5]])\n",
    "# print(var2)\n",
    "var3=np.array([[1, 2, 3], [3, 4, 5]])\n",
    "var4=np.add(var3,var2)\n",
    "print(var4)\n"
   ]
  },
  {
   "cell_type": "code",
   "execution_count": 2,
   "metadata": {},
   "outputs": [
    {
     "name": "stdout",
     "output_type": "stream",
     "text": [
      "[[1 2 3]\n",
      " [3 4 5]]\n",
      "(2, 3)\n",
      "2\n",
      "6\n",
      "int32\n",
      "4\n",
      "24\n"
     ]
    }
   ],
   "source": [
    "var2 = np.array([[1, 2, 3], [3, 4, 5]])\n",
    "print(var2)\n",
    "print(var2.shape)\n",
    "print(var2.ndim)\n",
    "print(var2.size)\n",
    "print(var2.dtype)\n",
    "print(var2.itemsize)\n",
    "print(var2.nbytes)\n"
   ]
  },
  {
   "cell_type": "code",
   "execution_count": 4,
   "metadata": {},
   "outputs": [
    {
     "name": "stdout",
     "output_type": "stream",
     "text": [
      "[[1 2]\n",
      " [3 3]\n",
      " [4 5]]\n"
     ]
    }
   ],
   "source": [
    "var2 = np.array([[1, 2, 3], [3, 4, 5]])\n",
    "var2 = var2.reshape(3,2)\n",
    "print(var2)\n"
   ]
  },
  {
   "cell_type": "code",
   "execution_count": 12,
   "metadata": {},
   "outputs": [
    {
     "name": "stdout",
     "output_type": "stream",
     "text": [
      "[ 1. 50.]\n",
      "[ 1 17 33 50]\n"
     ]
    }
   ],
   "source": [
    "x = np.linspace(1, 50, 2) # prints the numbers in range 1 to 50 with equal distance in between\n",
    "\n",
    "print(x)\n",
    "print(np.linspace(1, 50, 4, dtype = int))"
   ]
  },
  {
   "cell_type": "code",
   "execution_count": 23,
   "metadata": {},
   "outputs": [
    {
     "name": "stdout",
     "output_type": "stream",
     "text": [
      "[ 2  5  8 11]\n",
      "\n",
      "\n",
      "[[ 2  3]\n",
      " [ 5  6]\n",
      " [ 8  9]\n",
      " [11 12]]\n",
      "\n",
      "\n",
      "[[ 8  9]\n",
      " [11 12]]\n"
     ]
    }
   ],
   "source": [
    "y = np.array([[1,2,3],[4,5,6,],[7,8,9],[10,11,12]])\n",
    "print(y[0:,1])\n",
    "print('\\n')\n",
    "print(y[0:,1:])\n",
    "print('\\n')\n",
    "print(y[2:,1:])"
   ]
  },
  {
   "cell_type": "code",
   "execution_count": 26,
   "metadata": {},
   "outputs": [
    {
     "name": "stdout",
     "output_type": "stream",
     "text": [
      "52\n",
      "1\n",
      "125\n",
      "[22 73 30]\n",
      "[ 6 62 24 33]\n"
     ]
    }
   ],
   "source": [
    "y = np.array([[1,2,3],[4,52,6,],[7,8,9],[10,11,12]])\n",
    "print(y.max())  # prints the maximum value in the array\n",
    "print(y.min())  # prints the minimum value in the array\n",
    "print(y.sum())  # prints the sum of all the elements in the array\n",
    "print(y.sum(axis=0))  # prints the sum of all the elements in the array\n",
    "print(y.sum(axis=1))  # prints the sum of all the elements in the array\n"
   ]
  },
  {
   "cell_type": "code",
   "execution_count": 30,
   "metadata": {},
   "outputs": [
    {
     "name": "stdout",
     "output_type": "stream",
     "text": [
      "[[ 6  8]\n",
      " [10 12]]\n",
      "\n",
      "\n",
      "[[-4 -4]\n",
      " [-4 -4]]\n",
      "\n",
      "\n",
      "[[ 5 12]\n",
      " [21 32]]\n",
      "\n",
      "\n",
      "[[0.2        0.33333333]\n",
      " [0.42857143 0.5       ]]\n",
      "\n",
      "\n",
      "[[19 22]\n",
      " [43 50]]\n"
     ]
    }
   ],
   "source": [
    "# matrix operations\n",
    "\n",
    "x = np.array([[1,2],[3,4]])\n",
    "y = np.array([[5,6],[7,8]])\n",
    "\n",
    "print(x+y)\n",
    "print('\\n')\n",
    "print(x-y)\n",
    "print('\\n')\n",
    "print(x*y) # element wise multiplication\n",
    "print('\\n')\n",
    "print(x/y)\n",
    "print('\\n')\n",
    "print(x.dot(y)) # matrix multiplication of x and y \n"
   ]
  },
  {
   "cell_type": "code",
   "execution_count": 36,
   "metadata": {},
   "outputs": [
    {
     "name": "stdout",
     "output_type": "stream",
     "text": [
      "[4 6 8]\n",
      "[ 6 12]\n",
      "[[1.         1.41421356 1.73205081]\n",
      " [1.73205081 2.         2.23606798]]\n",
      "1.2909944487358056\n"
     ]
    }
   ],
   "source": [
    "var2 = np.array([[1, 2, 3], [3, 4, 5]])\n",
    "print(var2.sum(axis=0)) # prints the sum of all the elements in the array of each column\n",
    "print(var2.sum(axis=1)) # prints the sum of all the elements in the array of each row\n",
    "print(np.sqrt(var2)) # prints the square root of all the elements in the array\n",
    "print(np.std(var2)) # prints the standard deviation of all the elements in the array"
   ]
  },
  {
   "cell_type": "code",
   "execution_count": 37,
   "metadata": {},
   "outputs": [
    {
     "name": "stdout",
     "output_type": "stream",
     "text": [
      "[2.71828183e+00 7.38905610e+00 2.14643580e+14 5.45981500e+01\n",
      " 1.48413159e+02]\n",
      "[0.         0.69314718 3.49650756 1.38629436 1.60943791]\n",
      "[0.         0.30103    1.51851394 0.60205999 0.69897   ]\n"
     ]
    }
   ],
   "source": [
    "var4 = np.array([1, 2, 33, 4, 5])\n",
    "print(np.exp(var4)) # prints the exponential of all the elements in the array\n",
    "print(np.log(var4)) # prints the log of all the elements in the array\n",
    "print(np.log10(var4)) # prints the log10 of all the elements in the array\n"
   ]
  },
  {
   "cell_type": "code",
   "execution_count": null,
   "metadata": {},
   "outputs": [],
   "source": []
  }
 ],
 "metadata": {
  "kernelspec": {
   "display_name": "Python 3",
   "language": "python",
   "name": "python3"
  },
  "language_info": {
   "codemirror_mode": {
    "name": "ipython",
    "version": 3
   },
   "file_extension": ".py",
   "mimetype": "text/x-python",
   "name": "python",
   "nbconvert_exporter": "python",
   "pygments_lexer": "ipython3",
   "version": "3.9.13 (tags/v3.9.13:6de2ca5, May 17 2022, 16:36:42) [MSC v.1929 64 bit (AMD64)]"
  },
  "orig_nbformat": 4,
  "vscode": {
   "interpreter": {
    "hash": "e29de3735ce4bf8ef1dc0ab78c4e7acc3ea04260273d55cc28ba4a7b02861cf1"
   }
  }
 },
 "nbformat": 4,
 "nbformat_minor": 2
}
