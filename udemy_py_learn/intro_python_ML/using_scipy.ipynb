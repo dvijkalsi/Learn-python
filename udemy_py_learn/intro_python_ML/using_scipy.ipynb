{
 "cells": [
  {
   "cell_type": "code",
   "execution_count": 2,
   "metadata": {},
   "outputs": [],
   "source": [
    "import scipy as sp\n",
    "from scipy import integrate\n",
    "from scipy import cluster\n",
    "from scipy import fftpack\n",
    "import numpy as np\n"
   ]
  },
  {
   "cell_type": "code",
   "execution_count": 3,
   "metadata": {},
   "outputs": [
    {
     "name": "stdout",
     "output_type": "stream",
     "text": [
      "Help on package scipy.cluster in scipy:\n",
      "\n",
      "NAME\n",
      "    scipy.cluster\n",
      "\n",
      "DESCRIPTION\n",
      "    =========================================\n",
      "    Clustering package (:mod:`scipy.cluster`)\n",
      "    =========================================\n",
      "    \n",
      "    .. currentmodule:: scipy.cluster\n",
      "    \n",
      "    :mod:`scipy.cluster.vq`\n",
      "    \n",
      "    Clustering algorithms are useful in information theory, target detection,\n",
      "    communications, compression, and other areas. The `vq` module only\n",
      "    supports vector quantization and the k-means algorithms.\n",
      "    \n",
      "    :mod:`scipy.cluster.hierarchy`\n",
      "    \n",
      "    The `hierarchy` module provides functions for hierarchical and\n",
      "    agglomerative clustering.  Its features include generating hierarchical\n",
      "    clusters from distance matrices,\n",
      "    calculating statistics on clusters, cutting linkages\n",
      "    to generate flat clusters, and visualizing clusters with dendrograms.\n",
      "\n",
      "PACKAGE CONTENTS\n",
      "    _hierarchy\n",
      "    _optimal_leaf_ordering\n",
      "    _vq\n",
      "    hierarchy\n",
      "    tests (package)\n",
      "    vq\n",
      "\n",
      "DATA\n",
      "    __all__ = ['vq', 'hierarchy']\n",
      "\n",
      "FILE\n",
      "    c:\\users\\dvijk\\appdata\\local\\packages\\pythonsoftwarefoundation.python.3.9_qbz5n2kfra8p0\\localcache\\local-packages\\python39\\site-packages\\scipy\\cluster\\__init__.py\n",
      "\n",
      "\n"
     ]
    }
   ],
   "source": [
    "help(cluster)"
   ]
  },
  {
   "cell_type": "code",
   "execution_count": 4,
   "metadata": {},
   "outputs": [
    {
     "name": "stdout",
     "output_type": "stream",
     "text": [
      "=========================================================\n",
      "Legacy discrete Fourier transforms (:mod:`scipy.fftpack`)\n",
      "=========================================================\n",
      "\n",
      ".. warning::\n",
      "\n",
      "   This submodule is now considered legacy, new code should use\n",
      "   :mod:`scipy.fft`.\n",
      "\n",
      "Fast Fourier Transforms (FFTs)\n",
      "==============================\n",
      "\n",
      ".. autosummary::\n",
      "   :toctree: generated/\n",
      "\n",
      "   fft - Fast (discrete) Fourier Transform (FFT)\n",
      "   ifft - Inverse FFT\n",
      "   fft2 - 2-D FFT\n",
      "   ifft2 - 2-D inverse FFT\n",
      "   fftn - N-D FFT\n",
      "   ifftn - N-D inverse FFT\n",
      "   rfft - FFT of strictly real-valued sequence\n",
      "   irfft - Inverse of rfft\n",
      "   dct - Discrete cosine transform\n",
      "   idct - Inverse discrete cosine transform\n",
      "   dctn - N-D Discrete cosine transform\n",
      "   idctn - N-D Inverse discrete cosine transform\n",
      "   dst - Discrete sine transform\n",
      "   idst - Inverse discrete sine transform\n",
      "   dstn - N-D Discrete sine transform\n",
      "   idstn - N-D Inverse discrete sine transform\n",
      "\n",
      "Differential and pseudo-differential operators\n",
      "==============================================\n",
      "\n",
      ".. autosummary::\n",
      "   :toctree: generated/\n",
      "\n",
      "   diff - Differentiation and integration of periodic sequences\n",
      "   tilbert - Tilbert transform:         cs_diff(x,h,h)\n",
      "   itilbert - Inverse Tilbert transform: sc_diff(x,h,h)\n",
      "   hilbert - Hilbert transform:         cs_diff(x,inf,inf)\n",
      "   ihilbert - Inverse Hilbert transform: sc_diff(x,inf,inf)\n",
      "   cs_diff - cosh/sinh pseudo-derivative of periodic sequences\n",
      "   sc_diff - sinh/cosh pseudo-derivative of periodic sequences\n",
      "   ss_diff - sinh/sinh pseudo-derivative of periodic sequences\n",
      "   cc_diff - cosh/cosh pseudo-derivative of periodic sequences\n",
      "   shift - Shift periodic sequences\n",
      "\n",
      "Helper functions\n",
      "================\n",
      "\n",
      ".. autosummary::\n",
      "   :toctree: generated/\n",
      "\n",
      "   fftshift - Shift the zero-frequency component to the center of the spectrum\n",
      "   ifftshift - The inverse of `fftshift`\n",
      "   fftfreq - Return the Discrete Fourier Transform sample frequencies\n",
      "   rfftfreq - DFT sample frequencies (for usage with rfft, irfft)\n",
      "   next_fast_len - Find the optimal length to zero-pad an FFT for speed\n",
      "\n",
      "Note that ``fftshift``, ``ifftshift`` and ``fftfreq`` are numpy functions\n",
      "exposed by ``fftpack``; importing them from ``numpy`` should be preferred.\n",
      "\n",
      "Convolutions (:mod:`scipy.fftpack.convolve`)\n",
      "============================================\n",
      "\n",
      ".. module:: scipy.fftpack.convolve\n",
      "\n",
      ".. autosummary::\n",
      "   :toctree: generated/\n",
      "\n",
      "   convolve\n",
      "   convolve_z\n",
      "   init_convolution_kernel\n",
      "   destroy_convolve_cache\n"
     ]
    },
    {
     "name": "stderr",
     "output_type": "stream",
     "text": [
      "C:\\Users\\dvijk\\AppData\\Local\\Temp\\ipykernel_20308\\932265402.py:1: DeprecationWarning: scipy.info is deprecated and will be removed in SciPy 2.0.0, use numpy.info instead\n",
      "  sp.info(fftpack)\n"
     ]
    }
   ],
   "source": [
    "sp.info(fftpack)"
   ]
  },
  {
   "cell_type": "code",
   "execution_count": 5,
   "metadata": {},
   "outputs": [
    {
     "name": "stdout",
     "output_type": "stream",
     "text": [
      "In file: C:\\Users\\dvijk\\AppData\\Local\\Packages\\PythonSoftwareFoundation.Python.3.9_qbz5n2kfra8p0\\LocalCache\\local-packages\\Python39\\site-packages\\scipy\\cluster\\__init__.py\n",
      "\n",
      "\"\"\"\n",
      "=========================================\n",
      "Clustering package (:mod:`scipy.cluster`)\n",
      "=========================================\n",
      "\n",
      ".. currentmodule:: scipy.cluster\n",
      "\n",
      ":mod:`scipy.cluster.vq`\n",
      "\n",
      "Clustering algorithms are useful in information theory, target detection,\n",
      "communications, compression, and other areas. The `vq` module only\n",
      "supports vector quantization and the k-means algorithms.\n",
      "\n",
      ":mod:`scipy.cluster.hierarchy`\n",
      "\n",
      "The `hierarchy` module provides functions for hierarchical and\n",
      "agglomerative clustering.  Its features include generating hierarchical\n",
      "clusters from distance matrices,\n",
      "calculating statistics on clusters, cutting linkages\n",
      "to generate flat clusters, and visualizing clusters with dendrograms.\n",
      "\n",
      "\"\"\"\n",
      "__all__ = ['vq', 'hierarchy']\n",
      "\n",
      "from . import vq, hierarchy\n",
      "\n",
      "from scipy._lib._testutils import PytestTester\n",
      "test = PytestTester(__name__)\n",
      "del PytestTester\n",
      "\n"
     ]
    },
    {
     "name": "stderr",
     "output_type": "stream",
     "text": [
      "C:\\Users\\dvijk\\AppData\\Local\\Temp\\ipykernel_20308\\282665278.py:1: DeprecationWarning: scipy.source is deprecated and will be removed in SciPy 2.0.0, use numpy.source instead\n",
      "  sp.source(cluster)\n"
     ]
    }
   ],
   "source": [
    "sp.source(cluster)"
   ]
  },
  {
   "cell_type": "code",
   "execution_count": 6,
   "metadata": {},
   "outputs": [],
   "source": [
    "from scipy import special"
   ]
  },
  {
   "cell_type": "code",
   "execution_count": 7,
   "metadata": {},
   "outputs": [
    {
     "name": "stdout",
     "output_type": "stream",
     "text": [
      "((-2967.2545346357465-2952.7078873448645j), (-1.514347207267156e-08+7.962894398377203e-06j), (91.05533316965173-4087.755236845389j), (5.644678075956919e-06-5.882222803057011e-06j))\n"
     ]
    }
   ],
   "source": [
    "fun1 = special.kelvin(15)\n",
    "print(fun1)"
   ]
  },
  {
   "cell_type": "code",
   "execution_count": 8,
   "metadata": {},
   "outputs": [
    {
     "name": "stdout",
     "output_type": "stream",
     "text": [
      "4.605170185988092\n"
     ]
    }
   ],
   "source": [
    "fun2 = special.xlogy(2,10)\n",
    "print(fun2)"
   ]
  },
  {
   "cell_type": "code",
   "execution_count": 9,
   "metadata": {},
   "outputs": [
    {
     "name": "stdout",
     "output_type": "stream",
     "text": [
      "1e+50\n"
     ]
    }
   ],
   "source": [
    "fun3 = special.exp10(50)\n",
    "print(fun3)"
   ]
  },
  {
   "cell_type": "code",
   "execution_count": 10,
   "metadata": {},
   "outputs": [
    {
     "name": "stdout",
     "output_type": "stream",
     "text": [
      "1.0\n",
      "0.0\n"
     ]
    }
   ],
   "source": [
    "fun4 = special.sindg(90)\n",
    "fun5 = special.tandg(0)\n",
    "print(fun4)\n",
    "print(fun5)"
   ]
  },
  {
   "cell_type": "code",
   "execution_count": 11,
   "metadata": {},
   "outputs": [
    {
     "name": "stdout",
     "output_type": "stream",
     "text": [
      "(323.99999999999994, 3.5971225997855064e-12)\n"
     ]
    }
   ],
   "source": [
    "var1 = lambda x: x**3\n",
    "function1 = integrate.quad(var1, 0, 6)\n",
    "print(function1)"
   ]
  },
  {
   "cell_type": "code",
   "execution_count": 12,
   "metadata": {},
   "outputs": [
    {
     "name": "stdout",
     "output_type": "stream",
     "text": [
      "(3.5999999999999996, 3.996802888650563e-14)\n"
     ]
    }
   ],
   "source": [
    "var1 = lambda y,x: x* y**4\n",
    "\n",
    "function2 = integrate.dblquad(var1, 0, 6, lambda x: 0, lambda x: 1)\n",
    "print(function2)"
   ]
  },
  {
   "cell_type": "code",
   "execution_count": 13,
   "metadata": {},
   "outputs": [
    {
     "name": "stdout",
     "output_type": "stream",
     "text": [
      "[[12.-0.j         -3.+1.73205081j -3.-1.73205081j]\n",
      " [ 9.-0.j         -3.+1.73205081j -3.-1.73205081j]]\n"
     ]
    }
   ],
   "source": [
    "# from scipy import fft\n",
    "var_ab = np.array([[2,4,6],[1,3,5]])\n",
    "transr1 = sp.fft.fft(var_ab)\n",
    "print(transr1)"
   ]
  },
  {
   "cell_type": "code",
   "execution_count": 14,
   "metadata": {},
   "outputs": [
    {
     "name": "stdout",
     "output_type": "stream",
     "text": [
      "[[-1. -6.]\n",
      " [ 2.  5.]]\n"
     ]
    }
   ],
   "source": [
    "from scipy import linalg\n",
    "var_ab = np.array([[1,3],[2,4]])\n",
    "var_ac = np.array([[5,9],[6,8]])\n",
    "var_sol = sp.linalg.solve(var_ab,var_ac)\n",
    "print(var_sol)\n"
   ]
  },
  {
   "cell_type": "code",
   "execution_count": 15,
   "metadata": {},
   "outputs": [
    {
     "name": "stdout",
     "output_type": "stream",
     "text": [
      "[[-2.   1.5]\n",
      " [ 1.  -0.5]]\n"
     ]
    }
   ],
   "source": [
    "var_inv = sp.linalg.inv(var_ab)\n",
    "print(var_inv)"
   ]
  }
 ],
 "metadata": {
  "kernelspec": {
   "display_name": "Python 3",
   "language": "python",
   "name": "python3"
  },
  "language_info": {
   "codemirror_mode": {
    "name": "ipython",
    "version": 3
   },
   "file_extension": ".py",
   "mimetype": "text/x-python",
   "name": "python",
   "nbconvert_exporter": "python",
   "pygments_lexer": "ipython3",
   "version": "3.9.13 (tags/v3.9.13:6de2ca5, May 17 2022, 16:36:42) [MSC v.1929 64 bit (AMD64)]"
  },
  "orig_nbformat": 4,
  "vscode": {
   "interpreter": {
    "hash": "e29de3735ce4bf8ef1dc0ab78c4e7acc3ea04260273d55cc28ba4a7b02861cf1"
   }
  }
 },
 "nbformat": 4,
 "nbformat_minor": 2
}
