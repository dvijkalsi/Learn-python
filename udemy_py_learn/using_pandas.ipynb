{
 "cells": [
  {
   "cell_type": "code",
   "execution_count": 1,
   "metadata": {},
   "outputs": [],
   "source": [
    "import pandas as pd"
   ]
  },
  {
   "cell_type": "code",
   "execution_count": 8,
   "metadata": {},
   "outputs": [
    {
     "name": "stdout",
     "output_type": "stream",
     "text": [
      "   num_x    name  price_x  num_y  price_y\n",
      "0      1   apple      100      1      100\n",
      "1      2  banana      200      2      200\n",
      "2     32  orange      300      3      300\n",
      "3      4   grape      400      4     1400\n",
      "4      5   melon      500      5      500\n"
     ]
    }
   ],
   "source": [
    "food1 = {'num': [1, 2, 32, 4, 5], 'name': ['apple', 'banana', 'orange', 'grape', 'melon'], 'price': [100, 200, 300, 400, 500]}\n",
    "food2 = {'num': [1, 2, 3, 4, 5], 'name': ['apple', 'banana', 'orange', 'grape', 'melon'], 'price': [100, 200, 300, 1400, 500]}\n",
    "\n",
    "table1 = pd.DataFrame(food1)\n",
    "table2 = pd.DataFrame(food2)\n",
    "\n",
    "fusion = pd.merge(table1, table2, on='name')\n",
    "\n",
    "print(fusion)"
   ]
  },
  {
   "cell_type": "code",
   "execution_count": 9,
   "metadata": {},
   "outputs": [
    {
     "name": "stdout",
     "output_type": "stream",
     "text": [
      "   num    name  price   color  weight  qt\n",
      "0    1   apple    100     red     100   1\n",
      "1    2  banana    200  yellow     200   2\n",
      "2   32  orange    300  orange     300   3\n",
      "3    4   grape    400  purple     400   4\n",
      "4    5   melon    500   green     500   5\n"
     ]
    }
   ],
   "source": [
    "food3 = {'color': ['red', 'yellow', 'orange', 'purple', 'green'], 'weight': [100, 200, 300, 400, 500], 'qt': [1, 2, 3, 4, 5]}\n",
    "\n",
    "table3 = pd.DataFrame(food3)\n",
    "\n",
    "fusion2 = table1.join(table3)\n",
    "\n",
    "print(fusion2)"
   ]
  },
  {
   "cell_type": "code",
   "execution_count": 11,
   "metadata": {},
   "outputs": [],
   "source": [
    "color = pd.read_csv('C:\\\\Users\\\\dvijk\\\\OneDrive\\\\Desktop\\\\pp\\\\Book1.csv')\n",
    "color.to_html('nicecolor')"
   ]
  }
 ],
 "metadata": {
  "kernelspec": {
   "display_name": "Python 3",
   "language": "python",
   "name": "python3"
  },
  "language_info": {
   "codemirror_mode": {
    "name": "ipython",
    "version": 3
   },
   "file_extension": ".py",
   "mimetype": "text/x-python",
   "name": "python",
   "nbconvert_exporter": "python",
   "pygments_lexer": "ipython3",
   "version": "3.9.13 (tags/v3.9.13:6de2ca5, May 17 2022, 16:36:42) [MSC v.1929 64 bit (AMD64)]"
  },
  "orig_nbformat": 4,
  "vscode": {
   "interpreter": {
    "hash": "e29de3735ce4bf8ef1dc0ab78c4e7acc3ea04260273d55cc28ba4a7b02861cf1"
   }
  }
 },
 "nbformat": 4,
 "nbformat_minor": 2
}
